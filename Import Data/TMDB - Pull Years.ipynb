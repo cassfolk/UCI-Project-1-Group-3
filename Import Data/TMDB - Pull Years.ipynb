{
 "cells": [
  {
   "cell_type": "markdown",
   "metadata": {},
   "source": [
    "# READ BEFORE EXECUTING\n",
    "https://www.themoviedb.org/\n",
    "* *You will need to request an api key from the above website*\n",
    "* *You will need to create a config.py file* to hold your api key for TMDB. \n",
    "    * Have it read tmdb_key = \"YOUR KEY\"\n",
    "* *You will need to unzip \"movie_title.csv.zip\".* \n",
    "    * movie_title.csv was too large for me to push. \n",
    "    * You can store it in you local branch, then delete it once you are done with it. \n",
    "    * When you unzip it, the csv file will populate in the same folder (Resources) as the zip...which is where the script will think it is.\n",
    "<br><br>\n",
    "* \"PUT YOUR YEAR HERE\"\n",
    "    * This is in the 3rd cell down. *You will need to update this with your assigned year.*\n",
    "* You will need to do two pulls: \n",
    "    * 1) to get the TMDB ID\n",
    "    * 2) to get the movie info based off the TMBD ID.\n",
    "    * This will take a while\n",
    "        * I'm guessing let it run and check back in an hour to make sure there are now errors\n",
    "        * If there are no errors, it should be able to run clean through.\n",
    "\n",
    "#### IF THERE ARE ERRORS\n",
    "* Please take a screenshot of the ENTIRE error message\n",
    "* For Pull 1:\n",
    "    * print(response_tmdb_id.count())\n",
    "    * print(error_count.count())\n",
    "    * Add the 2 count numbers together\n",
    "    * print(movies[THE NUMBER HERE])\n",
    "        * That should be the title that thew it off\n",
    "* For Pull 2:\n",
    "    * Please go into the cell below where the CSV is saved and run it\n",
    "    * Open it up and see what the last title that rna successfully and see what comes next\n",
    "        * That should be the title that thew it off\n",
    "\n",
    "#### Make sure to zip all 3 CSVs this script will create. \n",
    "* We need all 3 so we can tell what was dropped when/where.\n",
    "* If they are not zipped, there might be issues pushing to the main branch due to size. You can right click and there should be a compress or zip option.\n",
    "\n",
    "### FOR THE LOVE OF ALL THAT IS GOOD AND HOLY MAKE SURE YOU ARE ON YOUR BRANCH OF GIT (please and thank you!)"
   ]
  },
  {
   "cell_type": "code",
   "execution_count": 26,
   "metadata": {},
   "outputs": [],
   "source": [
    "import pandas as pd\n",
    "import numpy as np\n",
    "import warnings\n",
    "warnings.filterwarnings('ignore')\n",
    "import requests\n",
    "from config import tmdb_key"
   ]
  },
  {
   "cell_type": "code",
   "execution_count": 27,
   "metadata": {
    "scrolled": true
   },
   "outputs": [],
   "source": [
    "file_path = 'Resources/movie_title.csv'"
   ]
  },
  {
   "cell_type": "code",
   "execution_count": 28,
   "metadata": {},
   "outputs": [],
   "source": [
    "# *****2015*****\n",
    "\n",
    "year = 2015 # <------ YOUR YEAR GOES HERE!!!!!"
   ]
  },
  {
   "cell_type": "code",
   "execution_count": 31,
   "metadata": {},
   "outputs": [
    {
     "data": {
      "text/html": [
       "<div>\n",
       "<style scoped>\n",
       "    .dataframe tbody tr th:only-of-type {\n",
       "        vertical-align: middle;\n",
       "    }\n",
       "\n",
       "    .dataframe tbody tr th {\n",
       "        vertical-align: top;\n",
       "    }\n",
       "\n",
       "    .dataframe thead th {\n",
       "        text-align: right;\n",
       "    }\n",
       "</style>\n",
       "<table border=\"1\" class=\"dataframe\">\n",
       "  <thead>\n",
       "    <tr style=\"text-align: right;\">\n",
       "      <th></th>\n",
       "      <th>tconst</th>\n",
       "      <th>primaryTitle</th>\n",
       "      <th>startYear</th>\n",
       "    </tr>\n",
       "  </thead>\n",
       "  <tbody>\n",
       "    <tr>\n",
       "      <th>10</th>\n",
       "      <td>tt0191476</td>\n",
       "      <td>Fed Up</td>\n",
       "      <td>2015</td>\n",
       "    </tr>\n",
       "    <tr>\n",
       "      <th>15</th>\n",
       "      <td>tt0283440</td>\n",
       "      <td>Short Time Heroes</td>\n",
       "      <td>2015</td>\n",
       "    </tr>\n",
       "    <tr>\n",
       "      <th>16</th>\n",
       "      <td>tt0297400</td>\n",
       "      <td>Snowblind</td>\n",
       "      <td>2015</td>\n",
       "    </tr>\n",
       "    <tr>\n",
       "      <th>23</th>\n",
       "      <td>tt0337926</td>\n",
       "      <td>Chatô - The King of Brazil</td>\n",
       "      <td>2015</td>\n",
       "    </tr>\n",
       "    <tr>\n",
       "      <th>25</th>\n",
       "      <td>tt0346045</td>\n",
       "      <td>Transeúntes</td>\n",
       "      <td>2015</td>\n",
       "    </tr>\n",
       "  </tbody>\n",
       "</table>\n",
       "</div>"
      ],
      "text/plain": [
       "       tconst                primaryTitle  startYear\n",
       "10  tt0191476                      Fed Up       2015\n",
       "15  tt0283440           Short Time Heroes       2015\n",
       "16  tt0297400                   Snowblind       2015\n",
       "23  tt0337926  Chatô - The King of Brazil       2015\n",
       "25  tt0346045                 Transeúntes       2015"
      ]
     },
     "execution_count": 31,
     "metadata": {},
     "output_type": "execute_result"
    }
   ],
   "source": [
    "movie_titles_df = pd.read_csv(file_path)\n",
    "movie_titles_df.head()\n",
    "\n",
    "movies_df = movie_titles_df[['tconst', 'primaryTitle', 'startYear']]\n",
    "movies_df = movies_df[(movies_df.startYear == year)]\n",
    "\n",
    "beginning_number = movies_df.tconst.count()\n",
    "movies_df.head()"
   ]
  },
  {
   "cell_type": "markdown",
   "metadata": {},
   "source": [
    "# Making the dataframe into a list + editing for error prevention"
   ]
  },
  {
   "cell_type": "code",
   "execution_count": 32,
   "metadata": {
    "scrolled": true
   },
   "outputs": [],
   "source": [
    "# change title name to have + instead of ' '\n",
    "movies_df['primaryTitle'] = movies_df['primaryTitle'].str.replace(\" \", \"+\")\n",
    "\n",
    "\n",
    "# ******Error 1: need to remove # from the beginning of titles for TMDB to work\n",
    "\n",
    "\n",
    "# variable cause starswith() wasn't happy with '#'\n",
    "pound_sign = '#'\n",
    "\n",
    "# make dataframe for pound sign = True (startswith() returns True/False)\n",
    "replace_pound_df = movies_df.iloc[:, 0:3]\n",
    "replace_pound_df.primaryTitle = replace_pound_df.primaryTitle.str.startswith(pound_sign)\n",
    "\n",
    "# make df for ONLY the True values + primaryTitle from movie_df\n",
    "pound_true_df = replace_pound_df.loc[replace_pound_df.primaryTitle == True]\n",
    "pound_true_df['TITLE'] = movies_df['primaryTitle']\n",
    "\n",
    "# Fix titles to not have # in the front & clean up columns\n",
    "pound_true_df['TITLE'] = pound_true_df['TITLE'].str.replace(pound_sign, \"\")\n",
    "pound_true_clean_df = pound_true_df.drop(columns=['primaryTitle', 'startYear'])\n",
    "pound_true_clean_df = pound_true_clean_df.rename(columns={'TITLE': 'primaryTitle'})\n",
    "\n",
    "# Merge 2 dfs, replace blank primaryTitle_y values with na so you can do fillna into a \n",
    "# nice new clean has correct info column & delete primaryTitle_y/x\n",
    "titles_combined_df = pd.merge(movies_df, pound_true_clean_df, how='outer', on='tconst')\n",
    "titles_combined_df['primaryTitle_y'] = titles_combined_df['primaryTitle_y'].str.replace(\" \", \"nan\")\n",
    "titles_combined_df[\"primaryTitle\"] = titles_combined_df[\"primaryTitle_y\"].fillna(titles_combined_df[\"primaryTitle_x\"])\n",
    "titles_fixed_df = titles_combined_df.drop(columns=['primaryTitle_y', 'primaryTitle_x'])\n",
    "\n",
    "\n",
    "# FINALLY make movie titles into a list so you can run it\n",
    "movies = titles_fixed_df['primaryTitle'].tolist()\n"
   ]
  },
  {
   "cell_type": "markdown",
   "metadata": {},
   "source": [
    "# TMDB call 1 - get TMDB ID numbers"
   ]
  },
  {
   "cell_type": "code",
   "execution_count": 33,
   "metadata": {
    "scrolled": false
   },
   "outputs": [
    {
     "name": "stdout",
     "output_type": "stream",
     "text": [
      "A total of 10438 movies could not be found.\n"
     ]
    }
   ],
   "source": [
    "url_tmdb_id = \"https://api.themoviedb.org/3/search/movie?api_key=\" + tmdb_key + \"&query=\"\n",
    "\n",
    "response_tmdb_id = []\n",
    "str_year = \"&y=\" + str(year)\n",
    "\n",
    "error_count = 0\n",
    "\n",
    "for movie in movies: \n",
    "    movie_data = requests.get(url_tmdb_id + movie + str_year).json()\n",
    "    \n",
    "    if (movie_data['total_results'] == 1):\n",
    "        response_tmdb_id.append(movie_data['results'][0]['id']) \n",
    "    else:\n",
    "        error_count += 1\n",
    "        \n",
    "print(f\"A total of {error_count} movies could not be found.\")"
   ]
  },
  {
   "cell_type": "markdown",
   "metadata": {},
   "source": [
    "#### Save results as a CSV"
   ]
  },
  {
   "cell_type": "code",
   "execution_count": 34,
   "metadata": {},
   "outputs": [],
   "source": [
    "file_outpath = f\"Resources/TMDB_pull_1_{year}_error_count{error_count}.csv\"\n",
    "\n",
    "TMDB_df = pd.DataFrame(response_tmdb_id,columns=['ID'],dtype=object)\n",
    "TMDB_df.to_csv(file_outpath)"
   ]
  },
  {
   "cell_type": "markdown",
   "metadata": {},
   "source": [
    "# TMDB call 2 - use TMDB ID numbers to get movie info"
   ]
  },
  {
   "cell_type": "code",
   "execution_count": 35,
   "metadata": {},
   "outputs": [],
   "source": [
    "url_tmdb_movie = \"https://api.themoviedb.org/3/movie/\"\n",
    "\n",
    "# Make columns to import info into\n",
    "TMDB_df['imdb_id'] = \" \"\n",
    "TMDB_df['release_date'] = \" \"\n",
    "TMDB_df['budget'] = \" \"\n",
    "TMDB_df['revenue'] = \" \"\n",
    "TMDB_df['genres'] = \" \"\n",
    "TMDB_df['original_language'] = \" \"\n",
    "TMDB_df['original_title'] = \" \"\n",
    "TMDB_df['origin_country'] = \" \"\n",
    "TMDB_df['production_countries name'] = \" \"\n",
    "TMDB_df['spoken_languages name'] = \" \""
   ]
  },
  {
   "cell_type": "code",
   "execution_count": 36,
   "metadata": {},
   "outputs": [],
   "source": [
    "error_count_info = 0\n",
    "\n",
    "for index, row in TMDB_df.iterrows(): \n",
    "    movie_data = requests.get(url_tmdb_movie + str(TMDB_df.ID[index]) + \"?api_key=\" + tmdb_key).json()\n",
    "    try:\n",
    "        TMDB_df.loc[index, 'imdb_id'] = movie_data['imdb_id']\n",
    "        TMDB_df.loc[index, 'release_date'] = movie_data['release_date']\n",
    "        TMDB_df.loc[index, 'budget'] = movie_data['budget']\n",
    "        TMDB_df.loc[index, 'revenue'] = movie_data['revenue']\n",
    "        TMDB_df.loc[index, 'original_language'] = movie_data['spoken_languages'][0]['name']\n",
    "        TMDB_df.loc[index, 'original_title'] = movie_data['original_title']\n",
    "        TMDB_df.loc[index, 'origin_country'] = movie_data['production_countries'][0]['iso_3166_1']\n",
    "        TMDB_df.loc[index, 'production_countries name'] = movie_data['production_countries'][0]['name']\n",
    "        TMDB_df.loc[index, 'spoken_languages name'] = movie_data['spoken_languages'][0]['name']\n",
    "        TMDB_df.loc[index, 'genres'] = movie_data['genres'][0]['name']    \n",
    "    except (IndexError, KeyError):\n",
    "        error_count_info +=1"
   ]
  },
  {
   "cell_type": "markdown",
   "metadata": {},
   "source": [
    "#### Save results as a CSV"
   ]
  },
  {
   "cell_type": "code",
   "execution_count": 37,
   "metadata": {},
   "outputs": [],
   "source": [
    "file_outpath_2 = f\"Resources/TMDB_pull_2_{year}_error_count{error_count_info}.csv\"\n",
    "\n",
    "TMDB_df.to_csv(file_outpath_2)"
   ]
  },
  {
   "cell_type": "markdown",
   "metadata": {},
   "source": [
    "# CLEANING if budget = 0, revenue = 0, IMDB_id not found\n",
    "* This is to help keep the file size down by dropping rows we cannot use or cannot match up"
   ]
  },
  {
   "cell_type": "code",
   "execution_count": 38,
   "metadata": {},
   "outputs": [
    {
     "data": {
      "text/html": [
       "<div>\n",
       "<style scoped>\n",
       "    .dataframe tbody tr th:only-of-type {\n",
       "        vertical-align: middle;\n",
       "    }\n",
       "\n",
       "    .dataframe tbody tr th {\n",
       "        vertical-align: top;\n",
       "    }\n",
       "\n",
       "    .dataframe thead th {\n",
       "        text-align: right;\n",
       "    }\n",
       "</style>\n",
       "<table border=\"1\" class=\"dataframe\">\n",
       "  <thead>\n",
       "    <tr style=\"text-align: right;\">\n",
       "      <th></th>\n",
       "      <th>ID</th>\n",
       "      <th>imdb_id</th>\n",
       "      <th>release_date</th>\n",
       "      <th>budget</th>\n",
       "      <th>revenue</th>\n",
       "      <th>genres</th>\n",
       "      <th>original_language</th>\n",
       "      <th>original_title</th>\n",
       "      <th>origin_country</th>\n",
       "      <th>production_countries name</th>\n",
       "      <th>spoken_languages name</th>\n",
       "    </tr>\n",
       "  </thead>\n",
       "  <tbody>\n",
       "    <tr>\n",
       "      <th>0</th>\n",
       "      <td>540873</td>\n",
       "      <td>tt0283440</td>\n",
       "      <td>2015-10-21</td>\n",
       "      <td>0</td>\n",
       "      <td>0</td>\n",
       "      <td>Science Fiction</td>\n",
       "      <td>Deutsch</td>\n",
       "      <td>Kurzzeithelden</td>\n",
       "      <td>DE</td>\n",
       "      <td>Germany</td>\n",
       "      <td>Deutsch</td>\n",
       "    </tr>\n",
       "    <tr>\n",
       "      <th>1</th>\n",
       "      <td>368103</td>\n",
       "      <td>tt6449458</td>\n",
       "      <td>2015-11-19</td>\n",
       "      <td>0</td>\n",
       "      <td>0</td>\n",
       "      <td>Drama</td>\n",
       "      <td>Português</td>\n",
       "      <td>Chatô, O Rei do Brasil</td>\n",
       "      <td>BR</td>\n",
       "      <td>Brazil</td>\n",
       "      <td>Português</td>\n",
       "    </tr>\n",
       "    <tr>\n",
       "      <th>2</th>\n",
       "      <td>353326</td>\n",
       "      <td>tt0787524</td>\n",
       "      <td>2016-04-08</td>\n",
       "      <td>0</td>\n",
       "      <td>11472454</td>\n",
       "      <td>Drama</td>\n",
       "      <td></td>\n",
       "      <td>The Man Who Knew Infinity</td>\n",
       "      <td>GB</td>\n",
       "      <td>United Kingdom</td>\n",
       "      <td></td>\n",
       "    </tr>\n",
       "    <tr>\n",
       "      <th>3</th>\n",
       "      <td>306819</td>\n",
       "      <td>tt0810819</td>\n",
       "      <td>2015-01-01</td>\n",
       "      <td>15000000</td>\n",
       "      <td>64191523</td>\n",
       "      <td>Drama</td>\n",
       "      <td>Français</td>\n",
       "      <td>The Danish Girl</td>\n",
       "      <td>DE</td>\n",
       "      <td>Germany</td>\n",
       "      <td>Français</td>\n",
       "    </tr>\n",
       "    <tr>\n",
       "      <th>4</th>\n",
       "      <td>252838</td>\n",
       "      <td>tt0884732</td>\n",
       "      <td>2015-01-16</td>\n",
       "      <td>23000000</td>\n",
       "      <td>79799880</td>\n",
       "      <td>Comedy</td>\n",
       "      <td>English</td>\n",
       "      <td>The Wedding Ringer</td>\n",
       "      <td>US</td>\n",
       "      <td>United States of America</td>\n",
       "      <td>English</td>\n",
       "    </tr>\n",
       "  </tbody>\n",
       "</table>\n",
       "</div>"
      ],
      "text/plain": [
       "       ID    imdb_id release_date    budget   revenue           genres  \\\n",
       "0  540873  tt0283440   2015-10-21         0         0  Science Fiction   \n",
       "1  368103  tt6449458   2015-11-19         0         0            Drama   \n",
       "2  353326  tt0787524   2016-04-08         0  11472454            Drama   \n",
       "3  306819  tt0810819   2015-01-01  15000000  64191523            Drama   \n",
       "4  252838  tt0884732   2015-01-16  23000000  79799880           Comedy   \n",
       "\n",
       "  original_language             original_title origin_country  \\\n",
       "0           Deutsch             Kurzzeithelden             DE   \n",
       "1         Português     Chatô, O Rei do Brasil             BR   \n",
       "2                    The Man Who Knew Infinity             GB   \n",
       "3          Français            The Danish Girl             DE   \n",
       "4           English         The Wedding Ringer             US   \n",
       "\n",
       "  production_countries name spoken_languages name  \n",
       "0                   Germany               Deutsch  \n",
       "1                    Brazil             Português  \n",
       "2            United Kingdom                        \n",
       "3                   Germany              Français  \n",
       "4  United States of America               English  "
      ]
     },
     "execution_count": 38,
     "metadata": {},
     "output_type": "execute_result"
    }
   ],
   "source": [
    "movie_info_pulled_df = TMDB_df.copy()\n",
    "movie_info_pulled_df.head()"
   ]
  },
  {
   "cell_type": "code",
   "execution_count": 39,
   "metadata": {},
   "outputs": [],
   "source": [
    "movie_info_pulled_df = movie_info_pulled_df[movie_info_pulled_df.budget != 0]\n",
    "movie_info_pulled_df = movie_info_pulled_df[movie_info_pulled_df.revenue != 0]\n",
    "movie_info_pulled_df = movie_info_pulled_df.dropna(subset=['imdb_id'])\n",
    "\n",
    "final_number = movie_info_pulled_df.imdb_id.count()"
   ]
  },
  {
   "cell_type": "markdown",
   "metadata": {},
   "source": [
    "#### Save results as a CSV"
   ]
  },
  {
   "cell_type": "code",
   "execution_count": 40,
   "metadata": {},
   "outputs": [],
   "source": [
    "total_errors = beginning_number - final_number\n",
    "\n",
    "file_outpath_FINAL = f\"Resources/TMDB_pull_FINAL_{year}_dropped_movies_{total_errors}.csv\"\n",
    "movie_info_pulled_df.to_csv(file_outpath_FINAL)"
   ]
  },
  {
   "cell_type": "code",
   "execution_count": null,
   "metadata": {},
   "outputs": [],
   "source": []
  },
  {
   "cell_type": "code",
   "execution_count": null,
   "metadata": {},
   "outputs": [],
   "source": []
  }
 ],
 "metadata": {
  "kernelspec": {
   "display_name": "Python 3",
   "language": "python",
   "name": "python3"
  },
  "language_info": {
   "codemirror_mode": {
    "name": "ipython",
    "version": 3
   },
   "file_extension": ".py",
   "mimetype": "text/x-python",
   "name": "python",
   "nbconvert_exporter": "python",
   "pygments_lexer": "ipython3",
   "version": "3.8.5"
  }
 },
 "nbformat": 4,
 "nbformat_minor": 4
}
