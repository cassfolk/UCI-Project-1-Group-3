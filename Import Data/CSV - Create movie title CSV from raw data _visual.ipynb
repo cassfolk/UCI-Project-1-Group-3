{
 "cells": [
  {
   "cell_type": "code",
   "execution_count": 1,
   "metadata": {},
   "outputs": [],
   "source": [
    "import pandas as pd\n",
    "import warnings\n",
    "warnings.filterwarnings('ignore')\n"
   ]
  },
  {
   "cell_type": "markdown",
   "metadata": {},
   "source": [
    "## Create DataFrame and CSV of Movie Titles"
   ]
  },
  {
   "cell_type": "code",
   "execution_count": 2,
   "metadata": {},
   "outputs": [
    {
     "name": "stdout",
     "output_type": "stream",
     "text": [
      "Index(['Unnamed: 0', 'tconst', 'titleType', 'primaryTitle', 'isAdult',\n",
      "       'startYear', 'genres'],\n",
      "      dtype='object')\n"
     ]
    },
    {
     "data": {
      "text/html": [
       "<div>\n",
       "<style scoped>\n",
       "    .dataframe tbody tr th:only-of-type {\n",
       "        vertical-align: middle;\n",
       "    }\n",
       "\n",
       "    .dataframe tbody tr th {\n",
       "        vertical-align: top;\n",
       "    }\n",
       "\n",
       "    .dataframe thead th {\n",
       "        text-align: right;\n",
       "    }\n",
       "</style>\n",
       "<table border=\"1\" class=\"dataframe\">\n",
       "  <thead>\n",
       "    <tr style=\"text-align: right;\">\n",
       "      <th></th>\n",
       "      <th>Unnamed: 0</th>\n",
       "      <th>tconst</th>\n",
       "      <th>titleType</th>\n",
       "      <th>primaryTitle</th>\n",
       "      <th>isAdult</th>\n",
       "      <th>startYear</th>\n",
       "      <th>genres</th>\n",
       "    </tr>\n",
       "  </thead>\n",
       "  <tbody>\n",
       "    <tr>\n",
       "      <th>0</th>\n",
       "      <td>67687</td>\n",
       "      <td>tt0069049</td>\n",
       "      <td>movie</td>\n",
       "      <td>The Other Side of the Wind</td>\n",
       "      <td>0</td>\n",
       "      <td>2018</td>\n",
       "      <td>Drama</td>\n",
       "    </tr>\n",
       "    <tr>\n",
       "      <th>1</th>\n",
       "      <td>70840</td>\n",
       "      <td>tt0072306</td>\n",
       "      <td>movie</td>\n",
       "      <td>Toula ou Le génie des eaux</td>\n",
       "      <td>0</td>\n",
       "      <td>2017</td>\n",
       "      <td>Drama</td>\n",
       "    </tr>\n",
       "    <tr>\n",
       "      <th>2</th>\n",
       "      <td>76043</td>\n",
       "      <td>tt0077649</td>\n",
       "      <td>movie</td>\n",
       "      <td>Isolation of 1/8800000</td>\n",
       "      <td>0</td>\n",
       "      <td>2018</td>\n",
       "      <td>\\N</td>\n",
       "    </tr>\n",
       "    <tr>\n",
       "      <th>3</th>\n",
       "      <td>98079</td>\n",
       "      <td>tt0100275</td>\n",
       "      <td>movie</td>\n",
       "      <td>The Wandering Soap Opera</td>\n",
       "      <td>0</td>\n",
       "      <td>2017</td>\n",
       "      <td>Comedy,Drama,Fantasy</td>\n",
       "    </tr>\n",
       "    <tr>\n",
       "      <th>4</th>\n",
       "      <td>109002</td>\n",
       "      <td>tt0111414</td>\n",
       "      <td>movie</td>\n",
       "      <td>A Thin Life</td>\n",
       "      <td>0</td>\n",
       "      <td>2018</td>\n",
       "      <td>Comedy</td>\n",
       "    </tr>\n",
       "  </tbody>\n",
       "</table>\n",
       "</div>"
      ],
      "text/plain": [
       "   Unnamed: 0     tconst titleType                primaryTitle  isAdult  \\\n",
       "0       67687  tt0069049     movie  The Other Side of the Wind        0   \n",
       "1       70840  tt0072306     movie  Toula ou Le génie des eaux        0   \n",
       "2       76043  tt0077649     movie      Isolation of 1/8800000        0   \n",
       "3       98079  tt0100275     movie    The Wandering Soap Opera        0   \n",
       "4      109002  tt0111414     movie                 A Thin Life        0   \n",
       "\n",
       "   startYear                genres  \n",
       "0       2018                 Drama  \n",
       "1       2017                 Drama  \n",
       "2       2018                    \\N  \n",
       "3       2017  Comedy,Drama,Fantasy  \n",
       "4       2018                Comedy  "
      ]
     },
     "execution_count": 2,
     "metadata": {},
     "output_type": "execute_result"
    }
   ],
   "source": [
    "file_path = 'Resources/movie_title.csv'\n",
    "movie_titles_arp = pd.read_csv(file_path)\n",
    "\n",
    "print(movie_titles_arp.columns)\n",
    "movie_titles_arp.head()"
   ]
  },
  {
   "cell_type": "code",
   "execution_count": 55,
   "metadata": {},
   "outputs": [],
   "source": []
  },
  {
   "cell_type": "code",
   "execution_count": 56,
   "metadata": {
    "scrolled": true
   },
   "outputs": [
    {
     "name": "stdout",
     "output_type": "stream",
     "text": [
      "tconst          object\n",
      "titleType       string\n",
      "primaryTitle    object\n",
      "isAdult          int64\n",
      "startYear        int64\n",
      "genres          object\n",
      "dtype: object\n",
      "\n",
      "THIS IS HOW MANY MOVIES: 84294\n"
     ]
    },
    {
     "data": {
      "text/html": [
       "<div>\n",
       "<style scoped>\n",
       "    .dataframe tbody tr th:only-of-type {\n",
       "        vertical-align: middle;\n",
       "    }\n",
       "\n",
       "    .dataframe tbody tr th {\n",
       "        vertical-align: top;\n",
       "    }\n",
       "\n",
       "    .dataframe thead th {\n",
       "        text-align: right;\n",
       "    }\n",
       "</style>\n",
       "<table border=\"1\" class=\"dataframe\">\n",
       "  <thead>\n",
       "    <tr style=\"text-align: right;\">\n",
       "      <th></th>\n",
       "      <th>tconst</th>\n",
       "      <th>titleType</th>\n",
       "      <th>primaryTitle</th>\n",
       "      <th>isAdult</th>\n",
       "      <th>startYear</th>\n",
       "      <th>genres</th>\n",
       "    </tr>\n",
       "  </thead>\n",
       "  <tbody>\n",
       "    <tr>\n",
       "      <th>67687</th>\n",
       "      <td>tt0069049</td>\n",
       "      <td>movie</td>\n",
       "      <td>The Other Side of the Wind</td>\n",
       "      <td>0</td>\n",
       "      <td>2018</td>\n",
       "      <td>Drama</td>\n",
       "    </tr>\n",
       "    <tr>\n",
       "      <th>70840</th>\n",
       "      <td>tt0072306</td>\n",
       "      <td>movie</td>\n",
       "      <td>Toula ou Le génie des eaux</td>\n",
       "      <td>0</td>\n",
       "      <td>2017</td>\n",
       "      <td>Drama</td>\n",
       "    </tr>\n",
       "    <tr>\n",
       "      <th>76043</th>\n",
       "      <td>tt0077649</td>\n",
       "      <td>movie</td>\n",
       "      <td>Isolation of 1/8800000</td>\n",
       "      <td>0</td>\n",
       "      <td>2018</td>\n",
       "      <td>\\N</td>\n",
       "    </tr>\n",
       "    <tr>\n",
       "      <th>98079</th>\n",
       "      <td>tt0100275</td>\n",
       "      <td>movie</td>\n",
       "      <td>The Wandering Soap Opera</td>\n",
       "      <td>0</td>\n",
       "      <td>2017</td>\n",
       "      <td>Comedy,Drama,Fantasy</td>\n",
       "    </tr>\n",
       "    <tr>\n",
       "      <th>109002</th>\n",
       "      <td>tt0111414</td>\n",
       "      <td>movie</td>\n",
       "      <td>A Thin Life</td>\n",
       "      <td>0</td>\n",
       "      <td>2018</td>\n",
       "      <td>Comedy</td>\n",
       "    </tr>\n",
       "  </tbody>\n",
       "</table>\n",
       "</div>"
      ],
      "text/plain": [
       "           tconst titleType                primaryTitle  isAdult  startYear  \\\n",
       "67687   tt0069049     movie  The Other Side of the Wind        0       2018   \n",
       "70840   tt0072306     movie  Toula ou Le génie des eaux        0       2017   \n",
       "76043   tt0077649     movie      Isolation of 1/8800000        0       2018   \n",
       "98079   tt0100275     movie    The Wandering Soap Opera        0       2017   \n",
       "109002  tt0111414     movie                 A Thin Life        0       2018   \n",
       "\n",
       "                      genres  \n",
       "67687                  Drama  \n",
       "70840                  Drama  \n",
       "76043                     \\N  \n",
       "98079   Comedy,Drama,Fantasy  \n",
       "109002                Comedy  "
      ]
     },
     "execution_count": 56,
     "metadata": {},
     "output_type": "execute_result"
    }
   ],
   "source": []
  },
  {
   "cell_type": "code",
   "execution_count": 57,
   "metadata": {},
   "outputs": [],
   "source": [
    "#file_outpath = \"Resources/movie_title.csv\"\n",
    "\n",
    "#movie_titles_clean.to_csv(file_outpath)"
   ]
  }
 ],
 "metadata": {
  "kernelspec": {
   "display_name": "Python [conda env:PythonData] *",
   "language": "python",
   "name": "conda-env-PythonData-py"
  },
  "language_info": {
   "codemirror_mode": {
    "name": "ipython",
    "version": 3
   },
   "file_extension": ".py",
   "mimetype": "text/x-python",
   "name": "python",
   "nbconvert_exporter": "python",
   "pygments_lexer": "ipython3",
   "version": "3.6.12"
  }
 },
 "nbformat": 4,
 "nbformat_minor": 4
}
