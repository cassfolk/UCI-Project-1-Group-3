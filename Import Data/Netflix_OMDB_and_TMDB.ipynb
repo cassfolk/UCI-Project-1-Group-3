{
 "cells": [
  {
   "cell_type": "code",
   "execution_count": 27,
   "metadata": {},
   "outputs": [],
   "source": [
    "import pandas as pd\n",
    "import requests\n",
    "import warnings\n",
    "warnings.filterwarnings('ignore')\n",
    "from config import omdb_key\n",
    "from config import tmdb_key\n",
    "import datetime"
   ]
  },
  {
   "cell_type": "code",
   "execution_count": 2,
   "metadata": {
    "scrolled": true
   },
   "outputs": [],
   "source": [
    "# https://www.kaggle.com/abhimanyudasarwar/netflix-originals\n",
    "\n",
    "file_path = 'Resources/netflix_originals.csv'"
   ]
  },
  {
   "cell_type": "code",
   "execution_count": 3,
   "metadata": {},
   "outputs": [
    {
     "name": "stdout",
     "output_type": "stream",
     "text": [
      "Index(['Title', 'Genre', 'Original Network', 'Premiere', 'Seasons', 'Length',\n",
      "       'Netflix Exclusive Regions', 'Status'],\n",
      "      dtype='object')\n"
     ]
    },
    {
     "data": {
      "text/html": [
       "<div>\n",
       "<style scoped>\n",
       "    .dataframe tbody tr th:only-of-type {\n",
       "        vertical-align: middle;\n",
       "    }\n",
       "\n",
       "    .dataframe tbody tr th {\n",
       "        vertical-align: top;\n",
       "    }\n",
       "\n",
       "    .dataframe thead th {\n",
       "        text-align: right;\n",
       "    }\n",
       "</style>\n",
       "<table border=\"1\" class=\"dataframe\">\n",
       "  <thead>\n",
       "    <tr style=\"text-align: right;\">\n",
       "      <th></th>\n",
       "      <th>Title</th>\n",
       "      <th>Genre</th>\n",
       "      <th>Original Network</th>\n",
       "      <th>Premiere</th>\n",
       "      <th>Seasons</th>\n",
       "      <th>Length</th>\n",
       "      <th>Netflix Exclusive Regions</th>\n",
       "      <th>Status</th>\n",
       "    </tr>\n",
       "  </thead>\n",
       "  <tbody>\n",
       "    <tr>\n",
       "      <th>0</th>\n",
       "      <td>House of Cards</td>\n",
       "      <td>Political drama</td>\n",
       "      <td>Netflix</td>\n",
       "      <td>February 1, 2013</td>\n",
       "      <td>6 seasons, 73 episodes</td>\n",
       "      <td>42–59 min.</td>\n",
       "      <td>Worldwide</td>\n",
       "      <td>Ended</td>\n",
       "    </tr>\n",
       "    <tr>\n",
       "      <th>1</th>\n",
       "      <td>Hemlock Grove</td>\n",
       "      <td>Horror</td>\n",
       "      <td>Netflix</td>\n",
       "      <td>April 19, 2013</td>\n",
       "      <td>3 seasons, 33 episodes</td>\n",
       "      <td>45–58 min.</td>\n",
       "      <td>Worldwide</td>\n",
       "      <td>Ended</td>\n",
       "    </tr>\n",
       "  </tbody>\n",
       "</table>\n",
       "</div>"
      ],
      "text/plain": [
       "            Title            Genre Original Network          Premiere  \\\n",
       "0  House of Cards  Political drama          Netflix  February 1, 2013   \n",
       "1   Hemlock Grove           Horror          Netflix    April 19, 2013   \n",
       "\n",
       "                  Seasons      Length Netflix Exclusive Regions Status  \n",
       "0  6 seasons, 73 episodes  42–59 min.                 Worldwide  Ended  \n",
       "1  3 seasons, 33 episodes  45–58 min.                 Worldwide  Ended  "
      ]
     },
     "execution_count": 3,
     "metadata": {},
     "output_type": "execute_result"
    }
   ],
   "source": [
    "netflix_titles_df = pd.read_csv(file_path)\n",
    "\n",
    "print(netflix_titles_df.columns)\n",
    "netflix_titles_df.head(2)"
   ]
  },
  {
   "cell_type": "code",
   "execution_count": 39,
   "metadata": {},
   "outputs": [
    {
     "name": "stdout",
     "output_type": "stream",
     "text": [
      "568\n"
     ]
    },
    {
     "data": {
      "text/html": [
       "<div>\n",
       "<style scoped>\n",
       "    .dataframe tbody tr th:only-of-type {\n",
       "        vertical-align: middle;\n",
       "    }\n",
       "\n",
       "    .dataframe tbody tr th {\n",
       "        vertical-align: top;\n",
       "    }\n",
       "\n",
       "    .dataframe thead th {\n",
       "        text-align: right;\n",
       "    }\n",
       "</style>\n",
       "<table border=\"1\" class=\"dataframe\">\n",
       "  <thead>\n",
       "    <tr style=\"text-align: right;\">\n",
       "      <th></th>\n",
       "      <th>index</th>\n",
       "      <th>Title</th>\n",
       "      <th>Genre</th>\n",
       "      <th>Premiere</th>\n",
       "      <th>Seasons</th>\n",
       "    </tr>\n",
       "  </thead>\n",
       "  <tbody>\n",
       "    <tr>\n",
       "      <th>0</th>\n",
       "      <td>497</td>\n",
       "      <td>Beasts of No Nation</td>\n",
       "      <td>War drama</td>\n",
       "      <td>October 16, 2015</td>\n",
       "      <td>NaN</td>\n",
       "    </tr>\n",
       "    <tr>\n",
       "      <th>1</th>\n",
       "      <td>498</td>\n",
       "      <td>The Ridiculous 6</td>\n",
       "      <td>Western</td>\n",
       "      <td>December 11, 2015</td>\n",
       "      <td>NaN</td>\n",
       "    </tr>\n",
       "  </tbody>\n",
       "</table>\n",
       "</div>"
      ],
      "text/plain": [
       "   index                Title      Genre           Premiere Seasons\n",
       "0    497  Beasts of No Nation  War drama   October 16, 2015     NaN\n",
       "1    498     The Ridiculous 6    Western  December 11, 2015     NaN"
      ]
     },
     "execution_count": 39,
     "metadata": {},
     "output_type": "execute_result"
    }
   ],
   "source": [
    "netflix_titles_clean = netflix_titles_df[['Title', 'Genre', 'Premiere', 'Seasons']]\n",
    "\n",
    "list_genre =('Making-of', 'Aftershow / Interview','Musical / Short')\n",
    "\n",
    "# remove 1 rouge string value in year\n",
    "netflix_titles_clean = netflix_titles_clean[netflix_titles_clean['Seasons'].isnull()]\n",
    "netflix_titles_clean = netflix_titles_clean[netflix_titles_clean['Genre'] != list_genre]\n",
    "netflix_titles_clean = netflix_titles_clean[~netflix_titles_clean['Premiere'].str.contains('2020', na=False)]\n",
    "netflix_fix_titles = netflix_titles_clean.reset_index()\n",
    "\n",
    "print(netflix_fix_titles.Title.count())\n",
    "netflix_fix_titles.head(2)"
   ]
  },
  {
   "cell_type": "code",
   "execution_count": 5,
   "metadata": {},
   "outputs": [
    {
     "name": "stdout",
     "output_type": "stream",
     "text": [
      "568\n"
     ]
    },
    {
     "data": {
      "text/html": [
       "<div>\n",
       "<style scoped>\n",
       "    .dataframe tbody tr th:only-of-type {\n",
       "        vertical-align: middle;\n",
       "    }\n",
       "\n",
       "    .dataframe tbody tr th {\n",
       "        vertical-align: top;\n",
       "    }\n",
       "\n",
       "    .dataframe thead th {\n",
       "        text-align: right;\n",
       "    }\n",
       "</style>\n",
       "<table border=\"1\" class=\"dataframe\">\n",
       "  <thead>\n",
       "    <tr style=\"text-align: right;\">\n",
       "      <th></th>\n",
       "      <th>index</th>\n",
       "      <th>Genre</th>\n",
       "      <th>Premiere</th>\n",
       "      <th>Seasons</th>\n",
       "      <th>Title</th>\n",
       "    </tr>\n",
       "  </thead>\n",
       "  <tbody>\n",
       "    <tr>\n",
       "      <th>0</th>\n",
       "      <td>497</td>\n",
       "      <td>War drama</td>\n",
       "      <td>October 16, 2015</td>\n",
       "      <td>NaN</td>\n",
       "      <td>Beasts of No Nation</td>\n",
       "    </tr>\n",
       "    <tr>\n",
       "      <th>1</th>\n",
       "      <td>498</td>\n",
       "      <td>Western</td>\n",
       "      <td>December 11, 2015</td>\n",
       "      <td>NaN</td>\n",
       "      <td>The Ridiculous 6</td>\n",
       "    </tr>\n",
       "  </tbody>\n",
       "</table>\n",
       "</div>"
      ],
      "text/plain": [
       "   index      Genre           Premiere Seasons                Title\n",
       "0    497  War drama   October 16, 2015     NaN  Beasts of No Nation\n",
       "1    498    Western  December 11, 2015     NaN     The Ridiculous 6"
      ]
     },
     "execution_count": 5,
     "metadata": {},
     "output_type": "execute_result"
    }
   ],
   "source": [
    "# variable cause starswith() wasn't happy with '#'\n",
    "pound_sign = '#'\n",
    "\n",
    "# make dataframe for pound sign = True (startswith() returns True/False)\n",
    "replace_pound_df = netflix_fix_titles.iloc[:, 0:2]\n",
    "replace_pound_df.Title = replace_pound_df.Title.str.startswith(pound_sign)\n",
    "\n",
    "# make df for ONLY the True values + primaryTitle from movie_df\n",
    "pound_true_df = replace_pound_df.loc[replace_pound_df.Title == True]\n",
    "pound_true_df['TITLE'] = netflix_fix_titles['Title']\n",
    "\n",
    "# Fix titles to not have # in the front & clean up columns\n",
    "pound_true_df['TITLE'] = pound_true_df['TITLE'].str.replace(pound_sign, \"\")\n",
    "pound_true_clean_df = pound_true_df.drop(columns=['Title'])\n",
    "pound_true_clean_df = pound_true_clean_df.rename(columns={'TITLE': 'Title'})\n",
    "\n",
    "# Merge 2 dfs, replace blank primaryTitle_y values with na so you can do fillna into a \n",
    "# nice new clean has correct info column & delete primaryTitle_y/x\n",
    "titles_combined_df = pd.merge(netflix_fix_titles, pound_true_clean_df, how='outer', on='index')\n",
    "titles_combined_df['Title_y'] = titles_combined_df['Title_y'].str.replace(\" \", \"nan\")\n",
    "titles_combined_df[\"Title\"] = titles_combined_df[\"Title_y\"].fillna(titles_combined_df[\"Title_x\"])\n",
    "titles_fixed_df = titles_combined_df.drop(columns=['Title_y', 'Title_x'])\n",
    "\n",
    "print(titles_fixed_df.Title.count())\n",
    "titles_fixed_df.head(2)"
   ]
  },
  {
   "cell_type": "code",
   "execution_count": 8,
   "metadata": {},
   "outputs": [
    {
     "name": "stdout",
     "output_type": "stream",
     "text": [
      "\n",
      "THIS IS HOW MANY MOVIES: 568\n"
     ]
    },
    {
     "data": {
      "text/html": [
       "<div>\n",
       "<style scoped>\n",
       "    .dataframe tbody tr th:only-of-type {\n",
       "        vertical-align: middle;\n",
       "    }\n",
       "\n",
       "    .dataframe tbody tr th {\n",
       "        vertical-align: top;\n",
       "    }\n",
       "\n",
       "    .dataframe thead th {\n",
       "        text-align: right;\n",
       "    }\n",
       "</style>\n",
       "<table border=\"1\" class=\"dataframe\">\n",
       "  <thead>\n",
       "    <tr style=\"text-align: right;\">\n",
       "      <th></th>\n",
       "      <th>index</th>\n",
       "      <th>Genre</th>\n",
       "      <th>Premiere</th>\n",
       "      <th>Seasons</th>\n",
       "      <th>Title</th>\n",
       "    </tr>\n",
       "  </thead>\n",
       "  <tbody>\n",
       "    <tr>\n",
       "      <th>0</th>\n",
       "      <td>497</td>\n",
       "      <td>War drama</td>\n",
       "      <td>October 16, 2015</td>\n",
       "      <td>NaN</td>\n",
       "      <td>Beasts+of+No+Nation</td>\n",
       "    </tr>\n",
       "    <tr>\n",
       "      <th>1</th>\n",
       "      <td>498</td>\n",
       "      <td>Western</td>\n",
       "      <td>December 11, 2015</td>\n",
       "      <td>NaN</td>\n",
       "      <td>The+Ridiculous+6</td>\n",
       "    </tr>\n",
       "  </tbody>\n",
       "</table>\n",
       "</div>"
      ],
      "text/plain": [
       "   index      Genre           Premiere Seasons                Title\n",
       "0    497  War drama   October 16, 2015     NaN  Beasts+of+No+Nation\n",
       "1    498    Western  December 11, 2015     NaN     The+Ridiculous+6"
      ]
     },
     "execution_count": 8,
     "metadata": {},
     "output_type": "execute_result"
    }
   ],
   "source": [
    "beginning_number = titles_fixed_df['index'].count()\n",
    "\n",
    "titles_fixed_df['Title'] = titles_fixed_df['Title'].str.replace(\" \", \"+\")\n",
    "            \n",
    "print(f\"\\nTHIS IS HOW MANY MOVIES: {titles_fixed_df.Title.count()}\")\n",
    "titles_fixed_df.head(2)"
   ]
  },
  {
   "cell_type": "markdown",
   "metadata": {},
   "source": [
    "# OMDB"
   ]
  },
  {
   "cell_type": "code",
   "execution_count": 9,
   "metadata": {},
   "outputs": [],
   "source": [
    "# make URL\n",
    "url_omdb = \"http://www.omdbapi.com/?apikey=\"+ omdb_key + \"&t=\"\n",
    "\n",
    "#make OMDB dataframe\n",
    "OMDB_netflix_df = netflix_titles_clean.copy()\n",
    "OMDB_netflix_df['Metascore'] = ''\n",
    "OMDB_netflix_df['imdbRating'] = ''\n",
    "OMDB_netflix_df['imdbVotes'] = ''\n",
    "OMDB_netflix_df['Title_from_OMDB'] = ''\n",
    "OMDB_netflix_df['imdbID'] = ''\n",
    "\n",
    "\n",
    "error_count = 0\n",
    "\n",
    "for index, row in OMDB_netflix_df.iterrows():           \n",
    "    try:\n",
    "        movie_data = requests.get(url_omdb + str(OMDB_netflix_df.Title[index])).json()\n",
    "        try:\n",
    "            OMDB_netflix_df.loc[index, 'Metascore'] = movie_data['Metascore']\n",
    "            OMDB_netflix_df.loc[index, 'imdbRating'] = movie_data['imdbRating']\n",
    "            OMDB_netflix_df.loc[index, 'imdbVotes'] = movie_data['imdbVotes']\n",
    "            OMDB_netflix_df.loc[index, 'Title_from_OMDB'] = movie_data['Title']\n",
    "            OMDB_netflix_df.loc[index, 'imdbID'] = movie_data['imdbID']\n",
    "\n",
    "        except (IndexError, KeyError, ValueError):\n",
    "            error_count +=1\n",
    "    except(ValueError, KeyError, IndexError):\n",
    "        error_count +=1      "
   ]
  },
  {
   "cell_type": "code",
   "execution_count": 10,
   "metadata": {},
   "outputs": [
    {
     "data": {
      "text/html": [
       "<div>\n",
       "<style scoped>\n",
       "    .dataframe tbody tr th:only-of-type {\n",
       "        vertical-align: middle;\n",
       "    }\n",
       "\n",
       "    .dataframe tbody tr th {\n",
       "        vertical-align: top;\n",
       "    }\n",
       "\n",
       "    .dataframe thead th {\n",
       "        text-align: right;\n",
       "    }\n",
       "</style>\n",
       "<table border=\"1\" class=\"dataframe\">\n",
       "  <thead>\n",
       "    <tr style=\"text-align: right;\">\n",
       "      <th></th>\n",
       "      <th>Title</th>\n",
       "      <th>Genre</th>\n",
       "      <th>Premiere</th>\n",
       "      <th>Seasons</th>\n",
       "      <th>Metascore</th>\n",
       "      <th>imdbRating</th>\n",
       "      <th>imdbVotes</th>\n",
       "      <th>Title_from_OMDB</th>\n",
       "      <th>imdbID</th>\n",
       "    </tr>\n",
       "  </thead>\n",
       "  <tbody>\n",
       "    <tr>\n",
       "      <th>497</th>\n",
       "      <td>Beasts of No Nation</td>\n",
       "      <td>War drama</td>\n",
       "      <td>October 16, 2015</td>\n",
       "      <td>NaN</td>\n",
       "      <td>79</td>\n",
       "      <td>7.7</td>\n",
       "      <td>71,861</td>\n",
       "      <td>Beasts of No Nation</td>\n",
       "      <td>tt1365050</td>\n",
       "    </tr>\n",
       "    <tr>\n",
       "      <th>498</th>\n",
       "      <td>The Ridiculous 6</td>\n",
       "      <td>Western</td>\n",
       "      <td>December 11, 2015</td>\n",
       "      <td>NaN</td>\n",
       "      <td>18</td>\n",
       "      <td>4.8</td>\n",
       "      <td>43,592</td>\n",
       "      <td>The Ridiculous 6</td>\n",
       "      <td>tt2479478</td>\n",
       "    </tr>\n",
       "  </tbody>\n",
       "</table>\n",
       "</div>"
      ],
      "text/plain": [
       "                   Title      Genre           Premiere Seasons Metascore  \\\n",
       "497  Beasts of No Nation  War drama   October 16, 2015     NaN        79   \n",
       "498     The Ridiculous 6    Western  December 11, 2015     NaN        18   \n",
       "\n",
       "    imdbRating imdbVotes      Title_from_OMDB     imdbID  \n",
       "497        7.7    71,861  Beasts of No Nation  tt1365050  \n",
       "498        4.8    43,592     The Ridiculous 6  tt2479478  "
      ]
     },
     "execution_count": 10,
     "metadata": {},
     "output_type": "execute_result"
    }
   ],
   "source": [
    "OMDB_netflix_df.head(2)"
   ]
  },
  {
   "cell_type": "markdown",
   "metadata": {
    "scrolled": true
   },
   "source": [
    "#### Save results as a CSV"
   ]
  },
  {
   "cell_type": "code",
   "execution_count": 11,
   "metadata": {},
   "outputs": [],
   "source": [
    "file_outpath = f\"Resources/OMDB_pull_Netflix_error_count{error_count}.csv\"\n",
    "\n",
    "OMDB_netflix_df.to_csv(file_outpath)"
   ]
  },
  {
   "cell_type": "markdown",
   "metadata": {},
   "source": [
    "# TMDB call 1 - get TMDB ID numbers"
   ]
  },
  {
   "cell_type": "code",
   "execution_count": 40,
   "metadata": {},
   "outputs": [],
   "source": [
    "# Make movie titles into a list so you can run it in TMDB pull 1\n",
    "movies = titles_fixed_df['Title'].tolist()"
   ]
  },
  {
   "cell_type": "code",
   "execution_count": 72,
   "metadata": {
    "scrolled": false
   },
   "outputs": [],
   "source": [
    "imdb_id_url =  \"https://api.themoviedb.org/3/movie/\"\n",
    "\n",
    "response_tmdb_id = []\n",
    "\n",
    "error_count_TMDB = 0\n",
    "\n",
    "for index, row in OMDB_netflix_df.iterrows():  \n",
    "    movie_data = requests.get(imdb_id_url + OMDB_netflix_df.imdbID[index] + \"/external_ids?api_key=\" + tmdb_key).json()\n",
    "    try:\n",
    "        response_tmdb_id.append(movie_data['id']) \n",
    "    except:\n",
    "        error_count_TMDB += 1    \n",
    "        "
   ]
  },
  {
   "cell_type": "markdown",
   "metadata": {},
   "source": [
    "#### Save results as a CSV"
   ]
  },
  {
   "cell_type": "code",
   "execution_count": 74,
   "metadata": {},
   "outputs": [],
   "source": [
    "file_outpath = f\"Resources/TMDB_pull_1_Netflix_error_count{error_count_TMDB}.csv\"\n",
    "\n",
    "TMDB_df = pd.DataFrame(response_tmdb_id,columns=['ID'],dtype=object)\n",
    "TMDB_df.to_csv(file_outpath)"
   ]
  },
  {
   "cell_type": "markdown",
   "metadata": {},
   "source": [
    "# Now take ID #s and run through TMDB"
   ]
  },
  {
   "cell_type": "code",
   "execution_count": 79,
   "metadata": {},
   "outputs": [
    {
     "data": {
      "text/html": [
       "<div>\n",
       "<style scoped>\n",
       "    .dataframe tbody tr th:only-of-type {\n",
       "        vertical-align: middle;\n",
       "    }\n",
       "\n",
       "    .dataframe tbody tr th {\n",
       "        vertical-align: top;\n",
       "    }\n",
       "\n",
       "    .dataframe thead th {\n",
       "        text-align: right;\n",
       "    }\n",
       "</style>\n",
       "<table border=\"1\" class=\"dataframe\">\n",
       "  <thead>\n",
       "    <tr style=\"text-align: right;\">\n",
       "      <th></th>\n",
       "      <th>ID</th>\n",
       "    </tr>\n",
       "  </thead>\n",
       "  <tbody>\n",
       "    <tr>\n",
       "      <th>0</th>\n",
       "      <td>283587</td>\n",
       "    </tr>\n",
       "    <tr>\n",
       "      <th>1</th>\n",
       "      <td>347969</td>\n",
       "    </tr>\n",
       "  </tbody>\n",
       "</table>\n",
       "</div>"
      ],
      "text/plain": [
       "       ID\n",
       "0  283587\n",
       "1  347969"
      ]
     },
     "execution_count": 79,
     "metadata": {},
     "output_type": "execute_result"
    }
   ],
   "source": [
    "#Make TMDB dataframe\n",
    "TMDB_netflix_df = TMDB_df.copy()\n",
    "TMDB_netflix_df.head(2)"
   ]
  },
  {
   "cell_type": "code",
   "execution_count": 80,
   "metadata": {},
   "outputs": [
    {
     "data": {
      "text/html": [
       "<div>\n",
       "<style scoped>\n",
       "    .dataframe tbody tr th:only-of-type {\n",
       "        vertical-align: middle;\n",
       "    }\n",
       "\n",
       "    .dataframe tbody tr th {\n",
       "        vertical-align: top;\n",
       "    }\n",
       "\n",
       "    .dataframe thead th {\n",
       "        text-align: right;\n",
       "    }\n",
       "</style>\n",
       "<table border=\"1\" class=\"dataframe\">\n",
       "  <thead>\n",
       "    <tr style=\"text-align: right;\">\n",
       "      <th></th>\n",
       "      <th>ID</th>\n",
       "      <th>imdb_id</th>\n",
       "      <th>release_date</th>\n",
       "      <th>budget</th>\n",
       "      <th>revenue</th>\n",
       "      <th>genres</th>\n",
       "      <th>original_language</th>\n",
       "      <th>original_title</th>\n",
       "      <th>origin_country</th>\n",
       "      <th>production_countries name</th>\n",
       "      <th>spoken_languages name</th>\n",
       "    </tr>\n",
       "  </thead>\n",
       "  <tbody>\n",
       "    <tr>\n",
       "      <th>0</th>\n",
       "      <td>283587</td>\n",
       "      <td></td>\n",
       "      <td></td>\n",
       "      <td></td>\n",
       "      <td></td>\n",
       "      <td></td>\n",
       "      <td></td>\n",
       "      <td></td>\n",
       "      <td></td>\n",
       "      <td></td>\n",
       "      <td></td>\n",
       "    </tr>\n",
       "    <tr>\n",
       "      <th>1</th>\n",
       "      <td>347969</td>\n",
       "      <td></td>\n",
       "      <td></td>\n",
       "      <td></td>\n",
       "      <td></td>\n",
       "      <td></td>\n",
       "      <td></td>\n",
       "      <td></td>\n",
       "      <td></td>\n",
       "      <td></td>\n",
       "      <td></td>\n",
       "    </tr>\n",
       "  </tbody>\n",
       "</table>\n",
       "</div>"
      ],
      "text/plain": [
       "       ID imdb_id release_date budget revenue genres original_language  \\\n",
       "0  283587                                                                \n",
       "1  347969                                                                \n",
       "\n",
       "  original_title origin_country production_countries name  \\\n",
       "0                                                           \n",
       "1                                                           \n",
       "\n",
       "  spoken_languages name  \n",
       "0                        \n",
       "1                        "
      ]
     },
     "execution_count": 80,
     "metadata": {},
     "output_type": "execute_result"
    }
   ],
   "source": [
    "url_tmdb_movie = \"https://api.themoviedb.org/3/movie/\"\n",
    "\n",
    "# Make columns to import info into\n",
    "TMDB_netflix_df['imdb_id'] = \" \"\n",
    "TMDB_netflix_df['release_date'] = \" \"\n",
    "TMDB_netflix_df['budget'] = \" \"\n",
    "TMDB_netflix_df['revenue'] = \" \"\n",
    "TMDB_netflix_df['genres'] = \" \"\n",
    "TMDB_netflix_df['original_language'] = \" \"\n",
    "TMDB_netflix_df['original_title'] = \" \"\n",
    "TMDB_netflix_df['origin_country'] = \" \"\n",
    "TMDB_netflix_df['production_countries name'] = \" \"\n",
    "TMDB_netflix_df['spoken_languages name'] = \" \"\n",
    "\n",
    "TMDB_netflix_df.head(2)"
   ]
  },
  {
   "cell_type": "code",
   "execution_count": 81,
   "metadata": {},
   "outputs": [],
   "source": [
    "error_count_info = 0\n",
    "\n",
    "for index, row in TMDB_df.iterrows(): \n",
    "    movie_data = requests.get(url_tmdb_movie + str(TMDB_df.ID[index]) + \"?api_key=\" + tmdb_key).json()\n",
    "    try:\n",
    "        TMDB_netflix_df.loc[index, 'imdb_id'] = movie_data['imdb_id']\n",
    "        TMDB_netflix_df.loc[index, 'release_date'] = movie_data['release_date']\n",
    "        TMDB_netflix_df.loc[index, 'budget'] = movie_data['budget']\n",
    "        TMDB_netflix_df.loc[index, 'revenue'] = movie_data['revenue']\n",
    "        TMDB_netflix_df.loc[index, 'original_language'] = movie_data['spoken_languages'][0]['name']\n",
    "        TMDB_netflix_df.loc[index, 'original_title'] = movie_data['original_title']\n",
    "        TMDB_netflix_df.loc[index, 'origin_country'] = movie_data['production_countries'][0]['iso_3166_1']\n",
    "        TMDB_netflix_df.loc[index, 'production_countries name'] = movie_data['production_countries'][0]['name']\n",
    "        TMDB_netflix_df.loc[index, 'spoken_languages name'] = movie_data['spoken_languages'][0]['name']\n",
    "        TMDB_netflix_df.loc[index, 'genres'] = movie_data['genres'][0]['name']    \n",
    "    except (IndexError, KeyError):\n",
    "        error_count_info +=1"
   ]
  },
  {
   "cell_type": "markdown",
   "metadata": {},
   "source": [
    "#### Save results as a CSV"
   ]
  },
  {
   "cell_type": "code",
   "execution_count": 82,
   "metadata": {},
   "outputs": [],
   "source": [
    "file_outpath_2 = f\"Resources/TMDB_pull_2_Netflix_error_count{error_count_info}.csv\"\n",
    "\n",
    "TMDB_netflix_df.to_csv(file_outpath_2)"
   ]
  },
  {
   "cell_type": "markdown",
   "metadata": {},
   "source": [
    "# CLEANING if budget = 0, revenue = 0, IMDB_id not found\n",
    "* This is to help keep the file size down by dropping rows we cannot use or cannot match up"
   ]
  },
  {
   "cell_type": "code",
   "execution_count": 83,
   "metadata": {},
   "outputs": [
    {
     "data": {
      "text/html": [
       "<div>\n",
       "<style scoped>\n",
       "    .dataframe tbody tr th:only-of-type {\n",
       "        vertical-align: middle;\n",
       "    }\n",
       "\n",
       "    .dataframe tbody tr th {\n",
       "        vertical-align: top;\n",
       "    }\n",
       "\n",
       "    .dataframe thead th {\n",
       "        text-align: right;\n",
       "    }\n",
       "</style>\n",
       "<table border=\"1\" class=\"dataframe\">\n",
       "  <thead>\n",
       "    <tr style=\"text-align: right;\">\n",
       "      <th></th>\n",
       "      <th>ID</th>\n",
       "      <th>imdb_id</th>\n",
       "      <th>release_date</th>\n",
       "      <th>budget</th>\n",
       "      <th>revenue</th>\n",
       "      <th>genres</th>\n",
       "      <th>original_language</th>\n",
       "      <th>original_title</th>\n",
       "      <th>origin_country</th>\n",
       "      <th>production_countries name</th>\n",
       "      <th>spoken_languages name</th>\n",
       "    </tr>\n",
       "  </thead>\n",
       "  <tbody>\n",
       "    <tr>\n",
       "      <th>0</th>\n",
       "      <td>283587</td>\n",
       "      <td>tt1365050</td>\n",
       "      <td>2015-09-11</td>\n",
       "      <td>6000000</td>\n",
       "      <td>9077700</td>\n",
       "      <td>Drama</td>\n",
       "      <td>English</td>\n",
       "      <td>Beasts of No Nation</td>\n",
       "      <td>GH</td>\n",
       "      <td>Ghana</td>\n",
       "      <td>English</td>\n",
       "    </tr>\n",
       "    <tr>\n",
       "      <th>1</th>\n",
       "      <td>347969</td>\n",
       "      <td>tt2479478</td>\n",
       "      <td>2015-12-11</td>\n",
       "      <td>60000000</td>\n",
       "      <td>0</td>\n",
       "      <td>Comedy</td>\n",
       "      <td>English</td>\n",
       "      <td>The Ridiculous 6</td>\n",
       "      <td>US</td>\n",
       "      <td>United States of America</td>\n",
       "      <td>English</td>\n",
       "    </tr>\n",
       "  </tbody>\n",
       "</table>\n",
       "</div>"
      ],
      "text/plain": [
       "       ID    imdb_id release_date    budget  revenue  genres  \\\n",
       "0  283587  tt1365050   2015-09-11   6000000  9077700   Drama   \n",
       "1  347969  tt2479478   2015-12-11  60000000        0  Comedy   \n",
       "\n",
       "  original_language       original_title origin_country  \\\n",
       "0           English  Beasts of No Nation             GH   \n",
       "1           English     The Ridiculous 6             US   \n",
       "\n",
       "  production_countries name spoken_languages name  \n",
       "0                     Ghana               English  \n",
       "1  United States of America               English  "
      ]
     },
     "execution_count": 83,
     "metadata": {},
     "output_type": "execute_result"
    }
   ],
   "source": [
    "movie_info_pulled_df = TMDB_netflix_df.copy()\n",
    "movie_info_pulled_df.head(2)"
   ]
  },
  {
   "cell_type": "code",
   "execution_count": 84,
   "metadata": {},
   "outputs": [],
   "source": [
    "movie_info_pulled_df = movie_info_pulled_df[movie_info_pulled_df.budget != 0]\n",
    "movie_info_pulled_df = movie_info_pulled_df[movie_info_pulled_df.revenue != 0]\n",
    "movie_info_pulled_df = movie_info_pulled_df.dropna(subset=['imdb_id'])\n",
    "\n",
    "final_number = movie_info_pulled_df.imdb_id.count()"
   ]
  },
  {
   "cell_type": "markdown",
   "metadata": {},
   "source": [
    "#### Save results as a CSV"
   ]
  },
  {
   "cell_type": "code",
   "execution_count": 85,
   "metadata": {},
   "outputs": [],
   "source": [
    "total_errors = beginning_number - final_number\n",
    "\n",
    "file_outpath_FINAL = f\"Resources/TMDB_pull_FINAL_Netflix_dropped_movies_{total_errors}.csv\"\n",
    "movie_info_pulled_df.to_csv(file_outpath_FINAL)"
   ]
  },
  {
   "cell_type": "code",
   "execution_count": null,
   "metadata": {},
   "outputs": [],
   "source": []
  }
 ],
 "metadata": {
  "kernelspec": {
   "display_name": "Python [conda env:PythonUCI]",
   "language": "python",
   "name": "conda-env-PythonUCI-py"
  },
  "language_info": {
   "codemirror_mode": {
    "name": "ipython",
    "version": 3
   },
   "file_extension": ".py",
   "mimetype": "text/x-python",
   "name": "python",
   "nbconvert_exporter": "python",
   "pygments_lexer": "ipython3",
   "version": "3.6.12"
  }
 },
 "nbformat": 4,
 "nbformat_minor": 4
}
