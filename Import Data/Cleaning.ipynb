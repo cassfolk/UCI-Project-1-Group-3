{
 "cells": [
  {
   "cell_type": "code",
   "execution_count": 1,
   "metadata": {},
   "outputs": [],
   "source": [
    "import pandas as pd\n",
    "import csv"
   ]
  },
  {
   "cell_type": "markdown",
   "metadata": {},
   "source": [
    "# Import files"
   ]
  },
  {
   "cell_type": "code",
   "execution_count": 2,
   "metadata": {},
   "outputs": [],
   "source": [
    "movies_2015 = pd.read_csv(\"Resources/TMDB_pull_FINAL_2015_dropped_movies_15964.csv\")\n",
    "movies_2016 = pd.read_csv(\"Resources/2016 pull/TMDB_pull_FINAL_2016_dropped_movies_16969.csv\")\n",
    "movies_2017 = pd.read_csv(\"Resources/2017_pull/TMDB_pull_FINAL_2017_dropped_movies_17367.csv\")\n",
    "movies_2018 = pd.read_csv(\"Resources/2018 pull/TMDB_pull_FINAL_2018_dropped_movies_17079.csv\")\n",
    "movies_2019 = pd.read_csv(\"Resources/TMDB_pull_FINAL_2019_dropped_movies_16258.csv\")\n",
    "\n",
    "netflix = pd.read_csv(\"Resources/Netflix_data/TMDB_pull_FINAL_Netflix_dropped_movies_524.csv\")\n",
    "movie_title = pd.read_csv(\"Resources/movie_title.csv\")\n",
    "movie_ratings = pd.read_csv(\"Resources/title.ratings.tsv\",sep='\\t')"
   ]
  },
  {
   "cell_type": "markdown",
   "metadata": {},
   "source": [
    "# Clean movie_title"
   ]
  },
  {
   "cell_type": "code",
   "execution_count": 3,
   "metadata": {},
   "outputs": [],
   "source": [
    "del movie_title[\"Unnamed: 0\"]\n",
    "del movie_title[\"isAdult\"]"
   ]
  },
  {
   "cell_type": "code",
   "execution_count": 4,
   "metadata": {},
   "outputs": [
    {
     "data": {
      "text/html": [
       "<div>\n",
       "<style scoped>\n",
       "    .dataframe tbody tr th:only-of-type {\n",
       "        vertical-align: middle;\n",
       "    }\n",
       "\n",
       "    .dataframe tbody tr th {\n",
       "        vertical-align: top;\n",
       "    }\n",
       "\n",
       "    .dataframe thead th {\n",
       "        text-align: right;\n",
       "    }\n",
       "</style>\n",
       "<table border=\"1\" class=\"dataframe\">\n",
       "  <thead>\n",
       "    <tr style=\"text-align: right;\">\n",
       "      <th></th>\n",
       "      <th>tconst</th>\n",
       "      <th>titleType</th>\n",
       "      <th>primaryTitle</th>\n",
       "      <th>startYear</th>\n",
       "      <th>genres</th>\n",
       "    </tr>\n",
       "  </thead>\n",
       "  <tbody>\n",
       "    <tr>\n",
       "      <th>0</th>\n",
       "      <td>tt0069049</td>\n",
       "      <td>movie</td>\n",
       "      <td>The Other Side of the Wind</td>\n",
       "      <td>2018</td>\n",
       "      <td>Drama</td>\n",
       "    </tr>\n",
       "    <tr>\n",
       "      <th>1</th>\n",
       "      <td>tt0072306</td>\n",
       "      <td>movie</td>\n",
       "      <td>Toula ou Le génie des eaux</td>\n",
       "      <td>2017</td>\n",
       "      <td>Drama</td>\n",
       "    </tr>\n",
       "    <tr>\n",
       "      <th>2</th>\n",
       "      <td>tt0077649</td>\n",
       "      <td>movie</td>\n",
       "      <td>Isolation of 1/8800000</td>\n",
       "      <td>2018</td>\n",
       "      <td>\\N</td>\n",
       "    </tr>\n",
       "    <tr>\n",
       "      <th>3</th>\n",
       "      <td>tt0100275</td>\n",
       "      <td>movie</td>\n",
       "      <td>The Wandering Soap Opera</td>\n",
       "      <td>2017</td>\n",
       "      <td>Comedy,Drama,Fantasy</td>\n",
       "    </tr>\n",
       "    <tr>\n",
       "      <th>4</th>\n",
       "      <td>tt0111414</td>\n",
       "      <td>movie</td>\n",
       "      <td>A Thin Life</td>\n",
       "      <td>2018</td>\n",
       "      <td>Comedy</td>\n",
       "    </tr>\n",
       "  </tbody>\n",
       "</table>\n",
       "</div>"
      ],
      "text/plain": [
       "      tconst titleType                primaryTitle  startYear  \\\n",
       "0  tt0069049     movie  The Other Side of the Wind       2018   \n",
       "1  tt0072306     movie  Toula ou Le génie des eaux       2017   \n",
       "2  tt0077649     movie      Isolation of 1/8800000       2018   \n",
       "3  tt0100275     movie    The Wandering Soap Opera       2017   \n",
       "4  tt0111414     movie                 A Thin Life       2018   \n",
       "\n",
       "                 genres  \n",
       "0                 Drama  \n",
       "1                 Drama  \n",
       "2                    \\N  \n",
       "3  Comedy,Drama,Fantasy  \n",
       "4                Comedy  "
      ]
     },
     "execution_count": 4,
     "metadata": {},
     "output_type": "execute_result"
    }
   ],
   "source": [
    "movie_title.head()"
   ]
  },
  {
   "cell_type": "markdown",
   "metadata": {},
   "source": [
    "# Clean Years"
   ]
  },
  {
   "cell_type": "markdown",
   "metadata": {},
   "source": [
    "### 2015"
   ]
  },
  {
   "cell_type": "code",
   "execution_count": 5,
   "metadata": {},
   "outputs": [],
   "source": [
    "def clean_year(file):\n",
    "    del file[\"Unnamed: 0\"]\n",
    "    del file[\"ID\"]\n",
    "    del file[\"original_title\"]\n",
    "    return file"
   ]
  },
  {
   "cell_type": "code",
   "execution_count": 6,
   "metadata": {},
   "outputs": [],
   "source": [
    "def profit(file):\n",
    "    file[\"Profit%\"] = round((file['revenue']-file['budget'])/file['budget']*100,2)"
   ]
  },
  {
   "cell_type": "code",
   "execution_count": 7,
   "metadata": {},
   "outputs": [
    {
     "data": {
      "text/html": [
       "<div>\n",
       "<style scoped>\n",
       "    .dataframe tbody tr th:only-of-type {\n",
       "        vertical-align: middle;\n",
       "    }\n",
       "\n",
       "    .dataframe tbody tr th {\n",
       "        vertical-align: top;\n",
       "    }\n",
       "\n",
       "    .dataframe thead th {\n",
       "        text-align: right;\n",
       "    }\n",
       "</style>\n",
       "<table border=\"1\" class=\"dataframe\">\n",
       "  <thead>\n",
       "    <tr style=\"text-align: right;\">\n",
       "      <th></th>\n",
       "      <th>imdb_id</th>\n",
       "      <th>release_date</th>\n",
       "      <th>budget</th>\n",
       "      <th>revenue</th>\n",
       "      <th>genres</th>\n",
       "      <th>original_language</th>\n",
       "      <th>origin_country</th>\n",
       "      <th>production_countries name</th>\n",
       "      <th>spoken_languages name</th>\n",
       "    </tr>\n",
       "  </thead>\n",
       "  <tbody>\n",
       "    <tr>\n",
       "      <th>0</th>\n",
       "      <td>tt0810819</td>\n",
       "      <td>2015-01-01</td>\n",
       "      <td>15000000</td>\n",
       "      <td>64191523</td>\n",
       "      <td>Drama</td>\n",
       "      <td>Français</td>\n",
       "      <td>DE</td>\n",
       "      <td>Germany</td>\n",
       "      <td>Français</td>\n",
       "    </tr>\n",
       "    <tr>\n",
       "      <th>1</th>\n",
       "      <td>tt0884732</td>\n",
       "      <td>2015-01-16</td>\n",
       "      <td>23000000</td>\n",
       "      <td>79799880</td>\n",
       "      <td>Comedy</td>\n",
       "      <td>English</td>\n",
       "      <td>US</td>\n",
       "      <td>United States of America</td>\n",
       "      <td>English</td>\n",
       "    </tr>\n",
       "    <tr>\n",
       "      <th>2</th>\n",
       "      <td>tt2250912</td>\n",
       "      <td>2017-07-05</td>\n",
       "      <td>175000000</td>\n",
       "      <td>880166924</td>\n",
       "      <td>Action</td>\n",
       "      <td>English</td>\n",
       "      <td>US</td>\n",
       "      <td>United States of America</td>\n",
       "      <td>English</td>\n",
       "    </tr>\n",
       "    <tr>\n",
       "      <th>3</th>\n",
       "      <td>tt1014763</td>\n",
       "      <td>2015-03-15</td>\n",
       "      <td>50000000</td>\n",
       "      <td>3324330</td>\n",
       "      <td>Crime</td>\n",
       "      <td>English</td>\n",
       "      <td>GB</td>\n",
       "      <td>United Kingdom</td>\n",
       "      <td>English</td>\n",
       "    </tr>\n",
       "    <tr>\n",
       "      <th>4</th>\n",
       "      <td>tt1083452</td>\n",
       "      <td>2016-02-26</td>\n",
       "      <td>23000000</td>\n",
       "      <td>46152411</td>\n",
       "      <td>Comedy</td>\n",
       "      <td>Deutsch</td>\n",
       "      <td>DE</td>\n",
       "      <td>Germany</td>\n",
       "      <td>Deutsch</td>\n",
       "    </tr>\n",
       "    <tr>\n",
       "      <th>...</th>\n",
       "      <td>...</td>\n",
       "      <td>...</td>\n",
       "      <td>...</td>\n",
       "      <td>...</td>\n",
       "      <td>...</td>\n",
       "      <td>...</td>\n",
       "      <td>...</td>\n",
       "      <td>...</td>\n",
       "      <td>...</td>\n",
       "    </tr>\n",
       "    <tr>\n",
       "      <th>126</th>\n",
       "      <td>tt6447370</td>\n",
       "      <td>2015-12-03</td>\n",
       "      <td>4700000</td>\n",
       "      <td>500000</td>\n",
       "      <td></td>\n",
       "      <td></td>\n",
       "      <td></td>\n",
       "      <td></td>\n",
       "      <td></td>\n",
       "    </tr>\n",
       "    <tr>\n",
       "      <th>127</th>\n",
       "      <td>tt0419706</td>\n",
       "      <td>2005-10-20</td>\n",
       "      <td>60000000</td>\n",
       "      <td>58072119</td>\n",
       "      <td>Action</td>\n",
       "      <td>日本語</td>\n",
       "      <td>CZ</td>\n",
       "      <td>Czech Republic</td>\n",
       "      <td>日本語</td>\n",
       "    </tr>\n",
       "    <tr>\n",
       "      <th>128</th>\n",
       "      <td>tt0375063</td>\n",
       "      <td>2004-10-22</td>\n",
       "      <td>16000000</td>\n",
       "      <td>109502303</td>\n",
       "      <td>Comedy</td>\n",
       "      <td>NaN</td>\n",
       "      <td>US</td>\n",
       "      <td>United States of America</td>\n",
       "      <td>NaN</td>\n",
       "    </tr>\n",
       "    <tr>\n",
       "      <th>129</th>\n",
       "      <td>tt0902272</td>\n",
       "      <td>2008-02-26</td>\n",
       "      <td>3500000</td>\n",
       "      <td>5231128</td>\n",
       "      <td>Action</td>\n",
       "      <td>English</td>\n",
       "      <td>US</td>\n",
       "      <td>United States of America</td>\n",
       "      <td>English</td>\n",
       "    </tr>\n",
       "    <tr>\n",
       "      <th>130</th>\n",
       "      <td>tt7365948</td>\n",
       "      <td>2015-10-22</td>\n",
       "      <td>150000</td>\n",
       "      <td>2000</td>\n",
       "      <td>Drama</td>\n",
       "      <td>Español</td>\n",
       "      <td>CO</td>\n",
       "      <td>Colombia</td>\n",
       "      <td>Español</td>\n",
       "    </tr>\n",
       "  </tbody>\n",
       "</table>\n",
       "<p>131 rows × 9 columns</p>\n",
       "</div>"
      ],
      "text/plain": [
       "       imdb_id release_date     budget    revenue  genres original_language  \\\n",
       "0    tt0810819   2015-01-01   15000000   64191523   Drama          Français   \n",
       "1    tt0884732   2015-01-16   23000000   79799880  Comedy           English   \n",
       "2    tt2250912   2017-07-05  175000000  880166924  Action           English   \n",
       "3    tt1014763   2015-03-15   50000000    3324330   Crime           English   \n",
       "4    tt1083452   2016-02-26   23000000   46152411  Comedy           Deutsch   \n",
       "..         ...          ...        ...        ...     ...               ...   \n",
       "126  tt6447370   2015-12-03    4700000     500000                             \n",
       "127  tt0419706   2005-10-20   60000000   58072119  Action               日本語   \n",
       "128  tt0375063   2004-10-22   16000000  109502303  Comedy               NaN   \n",
       "129  tt0902272   2008-02-26    3500000    5231128  Action           English   \n",
       "130  tt7365948   2015-10-22     150000       2000   Drama           Español   \n",
       "\n",
       "    origin_country production_countries name spoken_languages name  \n",
       "0               DE                   Germany              Français  \n",
       "1               US  United States of America               English  \n",
       "2               US  United States of America               English  \n",
       "3               GB            United Kingdom               English  \n",
       "4               DE                   Germany               Deutsch  \n",
       "..             ...                       ...                   ...  \n",
       "126                                                                 \n",
       "127             CZ            Czech Republic                   日本語  \n",
       "128             US  United States of America                   NaN  \n",
       "129             US  United States of America               English  \n",
       "130             CO                  Colombia               Español  \n",
       "\n",
       "[131 rows x 9 columns]"
      ]
     },
     "execution_count": 7,
     "metadata": {},
     "output_type": "execute_result"
    }
   ],
   "source": [
    "clean_year(movies_2015)"
   ]
  },
  {
   "cell_type": "code",
   "execution_count": 8,
   "metadata": {},
   "outputs": [],
   "source": [
    "movies_2015.reset_index().head()\n",
    "movies_2015 = movies_2015.drop(index=123)\n",
    "movies_2015 = movies_2015.rename(columns={'imdb_id':'tconst'})"
   ]
  },
  {
   "cell_type": "code",
   "execution_count": 9,
   "metadata": {},
   "outputs": [],
   "source": [
    "movies_2015['budget'] = pd.to_numeric(movies_2015['budget'])\n",
    "movies_2015['revenue'] = pd.to_numeric(movies_2015['revenue'])\n",
    "profit(movies_2015)"
   ]
  },
  {
   "cell_type": "markdown",
   "metadata": {},
   "source": [
    "### 2016"
   ]
  },
  {
   "cell_type": "code",
   "execution_count": 10,
   "metadata": {},
   "outputs": [],
   "source": [
    "clean_year(movies_2016)\n",
    "movies_2016.reset_index().head()\n",
    "movies_2016 = movies_2016.drop(index=158)\n",
    "movies_2016 = movies_2016.rename(columns={'imdb_id':'tconst'})\n",
    "movies_2016['budget'] = pd.to_numeric(movies_2016['budget'])\n",
    "movies_2016['revenue'] = pd.to_numeric(movies_2016['revenue'])\n",
    "profit(movies_2016)"
   ]
  },
  {
   "cell_type": "markdown",
   "metadata": {},
   "source": [
    "### 2017"
   ]
  },
  {
   "cell_type": "code",
   "execution_count": 11,
   "metadata": {},
   "outputs": [],
   "source": [
    "clean_year(movies_2017)\n",
    "movies_2017.reset_index().head()\n",
    "movies_2017 = movies_2017.rename(columns={'imdb_id':'tconst'})\n",
    "movies_2017['budget'] = pd.to_numeric(movies_2017['budget'])\n",
    "movies_2017['revenue'] = pd.to_numeric(movies_2017['revenue'])\n",
    "profit(movies_2017)"
   ]
  },
  {
   "cell_type": "markdown",
   "metadata": {},
   "source": [
    "### 2018"
   ]
  },
  {
   "cell_type": "code",
   "execution_count": 12,
   "metadata": {},
   "outputs": [],
   "source": [
    "clean_year(movies_2018)\n",
    "movies_2018.reset_index().head()\n",
    "movies_2018 = movies_2018.drop(index=4)\n",
    "movies_2018 = movies_2018.rename(columns={'imdb_id':'tconst'})\n",
    "movies_2018['budget'] = pd.to_numeric(movies_2018['budget'])\n",
    "movies_2018['revenue'] = pd.to_numeric(movies_2018['revenue'])\n",
    "profit(movies_2018)"
   ]
  },
  {
   "cell_type": "markdown",
   "metadata": {},
   "source": [
    "### 2019"
   ]
  },
  {
   "cell_type": "code",
   "execution_count": 13,
   "metadata": {},
   "outputs": [],
   "source": [
    "clean_year(movies_2019)\n",
    "movies_2019.reset_index().head()\n",
    "movies_2019 = movies_2019.drop(index=11)\n",
    "movies_2019 = movies_2019.drop(index=23)\n",
    "movies_2019 = movies_2019.drop(index=37)\n",
    "movies_2019 = movies_2019.rename(columns={'imdb_id':'tconst'})\n",
    "movies_2019['budget'] = pd.to_numeric(movies_2019['budget'])\n",
    "movies_2019['revenue'] = pd.to_numeric(movies_2019['revenue'])\n",
    "profit(movies_2019)"
   ]
  },
  {
   "cell_type": "markdown",
   "metadata": {},
   "source": [
    "# Combine Years"
   ]
  },
  {
   "cell_type": "code",
   "execution_count": 14,
   "metadata": {},
   "outputs": [
    {
     "data": {
      "text/plain": [
       "tconst                       645\n",
       "release_date                 640\n",
       "budget                       651\n",
       "revenue                      651\n",
       "genres                       651\n",
       "original_language            620\n",
       "origin_country               651\n",
       "production_countries name    651\n",
       "spoken_languages name        624\n",
       "Profit%                      651\n",
       "dtype: int64"
      ]
     },
     "execution_count": 14,
     "metadata": {},
     "output_type": "execute_result"
    }
   ],
   "source": [
    "movies = movies_2015\n",
    "movies = movies.append(movies_2016)\n",
    "movies = movies.append(movies_2017)\n",
    "movies = movies.append(movies_2018)\n",
    "movies = movies.append(movies_2019)\n",
    "movies.count()"
   ]
  },
  {
   "cell_type": "markdown",
   "metadata": {},
   "source": [
    "Drop null values"
   ]
  },
  {
   "cell_type": "code",
   "execution_count": 15,
   "metadata": {},
   "outputs": [
    {
     "data": {
      "text/plain": [
       "tconst                       606\n",
       "release_date                 606\n",
       "budget                       606\n",
       "revenue                      606\n",
       "genres                       606\n",
       "original_language            606\n",
       "origin_country               606\n",
       "production_countries name    606\n",
       "spoken_languages name        606\n",
       "Profit%                      606\n",
       "dtype: int64"
      ]
     },
     "execution_count": 15,
     "metadata": {},
     "output_type": "execute_result"
    }
   ],
   "source": [
    "movies = movies.dropna(how='any')\n",
    "movies.count()"
   ]
  },
  {
   "cell_type": "markdown",
   "metadata": {},
   "source": [
    "### Export"
   ]
  },
  {
   "cell_type": "code",
   "execution_count": 16,
   "metadata": {},
   "outputs": [],
   "source": [
    "movies.to_csv(\"Resources/movie_list.csv\")"
   ]
  }
 ],
 "metadata": {
  "kernelspec": {
   "display_name": "Python 3",
   "language": "python",
   "name": "python3"
  },
  "language_info": {
   "codemirror_mode": {
    "name": "ipython",
    "version": 3
   },
   "file_extension": ".py",
   "mimetype": "text/x-python",
   "name": "python",
   "nbconvert_exporter": "python",
   "pygments_lexer": "ipython3",
   "version": "3.6.12"
  }
 },
 "nbformat": 4,
 "nbformat_minor": 4
}
