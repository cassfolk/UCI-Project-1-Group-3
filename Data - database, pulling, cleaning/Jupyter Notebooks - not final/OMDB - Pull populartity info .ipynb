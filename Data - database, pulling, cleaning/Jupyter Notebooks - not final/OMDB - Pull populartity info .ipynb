{
 "cells": [
  {
   "cell_type": "code",
   "execution_count": 2,
   "metadata": {},
   "outputs": [],
   "source": [
    "import pandas as pd\n",
    "import requests\n",
    "import warnings\n",
    "warnings.filterwarnings('ignore')\n",
    "# from config import omdb_key"
   ]
  },
  {
   "cell_type": "code",
   "execution_count": 5,
   "metadata": {
    "scrolled": true
   },
   "outputs": [],
   "source": [
    "# https://www.kaggle.com/stefanoleone992/imdb-extensive-dataset\n",
    "\n",
    "file_path = '../Resources/movie_title.csv'"
   ]
  },
  {
   "cell_type": "code",
   "execution_count": 6,
   "metadata": {},
   "outputs": [
    {
     "name": "stdout",
     "output_type": "stream",
     "text": [
      "Index(['Unnamed: 0', 'tconst', 'titleType', 'primaryTitle', 'isAdult',\n",
      "       'startYear', 'genres'],\n",
      "      dtype='object')\n"
     ]
    },
    {
     "data": {
      "text/html": [
       "<div>\n",
       "<style scoped>\n",
       "    .dataframe tbody tr th:only-of-type {\n",
       "        vertical-align: middle;\n",
       "    }\n",
       "\n",
       "    .dataframe tbody tr th {\n",
       "        vertical-align: top;\n",
       "    }\n",
       "\n",
       "    .dataframe thead th {\n",
       "        text-align: right;\n",
       "    }\n",
       "</style>\n",
       "<table border=\"1\" class=\"dataframe\">\n",
       "  <thead>\n",
       "    <tr style=\"text-align: right;\">\n",
       "      <th></th>\n",
       "      <th>Unnamed: 0</th>\n",
       "      <th>tconst</th>\n",
       "      <th>titleType</th>\n",
       "      <th>primaryTitle</th>\n",
       "      <th>isAdult</th>\n",
       "      <th>startYear</th>\n",
       "      <th>genres</th>\n",
       "    </tr>\n",
       "  </thead>\n",
       "  <tbody>\n",
       "    <tr>\n",
       "      <th>0</th>\n",
       "      <td>67687</td>\n",
       "      <td>tt0069049</td>\n",
       "      <td>movie</td>\n",
       "      <td>The Other Side of the Wind</td>\n",
       "      <td>0</td>\n",
       "      <td>2018</td>\n",
       "      <td>Drama</td>\n",
       "    </tr>\n",
       "    <tr>\n",
       "      <th>1</th>\n",
       "      <td>70840</td>\n",
       "      <td>tt0072306</td>\n",
       "      <td>movie</td>\n",
       "      <td>Toula ou Le génie des eaux</td>\n",
       "      <td>0</td>\n",
       "      <td>2017</td>\n",
       "      <td>Drama</td>\n",
       "    </tr>\n",
       "  </tbody>\n",
       "</table>\n",
       "</div>"
      ],
      "text/plain": [
       "   Unnamed: 0     tconst titleType                primaryTitle  isAdult  \\\n",
       "0       67687  tt0069049     movie  The Other Side of the Wind        0   \n",
       "1       70840  tt0072306     movie  Toula ou Le génie des eaux        0   \n",
       "\n",
       "   startYear genres  \n",
       "0       2018  Drama  \n",
       "1       2017  Drama  "
      ]
     },
     "execution_count": 6,
     "metadata": {},
     "output_type": "execute_result"
    }
   ],
   "source": [
    "movie_titles_df = pd.read_csv(file_path)\n",
    "\n",
    "print(movie_titles_df.columns)\n",
    "movie_titles_df.head(2)"
   ]
  },
  {
   "cell_type": "markdown",
   "metadata": {},
   "source": [
    "# CHANGE THE YEAR"
   ]
  },
  {
   "cell_type": "code",
   "execution_count": 7,
   "metadata": {},
   "outputs": [],
   "source": [
    "year = 2019\n",
    "movie_titles_df = movie_titles_df[(movie_titles_df.startYear == year)]\n"
   ]
  },
  {
   "cell_type": "code",
   "execution_count": 8,
   "metadata": {
    "scrolled": true
   },
   "outputs": [
    {
     "name": "stdout",
     "output_type": "stream",
     "text": [
      "How many movies in (year) = 16352\n"
     ]
    },
    {
     "data": {
      "text/html": [
       "<div>\n",
       "<style scoped>\n",
       "    .dataframe tbody tr th:only-of-type {\n",
       "        vertical-align: middle;\n",
       "    }\n",
       "\n",
       "    .dataframe tbody tr th {\n",
       "        vertical-align: top;\n",
       "    }\n",
       "\n",
       "    .dataframe thead th {\n",
       "        text-align: right;\n",
       "    }\n",
       "</style>\n",
       "<table border=\"1\" class=\"dataframe\">\n",
       "  <thead>\n",
       "    <tr style=\"text-align: right;\">\n",
       "      <th></th>\n",
       "      <th>tconst</th>\n",
       "      <th>primaryTitle</th>\n",
       "      <th>startYear</th>\n",
       "      <th>Metascore</th>\n",
       "      <th>imdbRating</th>\n",
       "      <th>imdbVotes</th>\n",
       "      <th>Title</th>\n",
       "    </tr>\n",
       "  </thead>\n",
       "  <tbody>\n",
       "    <tr>\n",
       "      <th>6</th>\n",
       "      <td>tt0116991</td>\n",
       "      <td>Mariette in Ecstasy</td>\n",
       "      <td>2019</td>\n",
       "      <td></td>\n",
       "      <td></td>\n",
       "      <td></td>\n",
       "      <td></td>\n",
       "    </tr>\n",
       "    <tr>\n",
       "      <th>12</th>\n",
       "      <td>tt0276132</td>\n",
       "      <td>The Fetishist</td>\n",
       "      <td>2019</td>\n",
       "      <td></td>\n",
       "      <td></td>\n",
       "      <td></td>\n",
       "      <td></td>\n",
       "    </tr>\n",
       "    <tr>\n",
       "      <th>14</th>\n",
       "      <td>tt0279481</td>\n",
       "      <td>Travel Daze</td>\n",
       "      <td>2019</td>\n",
       "      <td></td>\n",
       "      <td></td>\n",
       "      <td></td>\n",
       "      <td></td>\n",
       "    </tr>\n",
       "    <tr>\n",
       "      <th>17</th>\n",
       "      <td>tt0305295</td>\n",
       "      <td>Bich bozhiy</td>\n",
       "      <td>2019</td>\n",
       "      <td></td>\n",
       "      <td></td>\n",
       "      <td></td>\n",
       "      <td></td>\n",
       "    </tr>\n",
       "    <tr>\n",
       "      <th>30</th>\n",
       "      <td>tt0374682</td>\n",
       "      <td>Gombrowicz, l'Argentine et moi</td>\n",
       "      <td>2019</td>\n",
       "      <td></td>\n",
       "      <td></td>\n",
       "      <td></td>\n",
       "      <td></td>\n",
       "    </tr>\n",
       "  </tbody>\n",
       "</table>\n",
       "</div>"
      ],
      "text/plain": [
       "       tconst                    primaryTitle  startYear Metascore imdbRating  \\\n",
       "6   tt0116991             Mariette in Ecstasy       2019                        \n",
       "12  tt0276132                   The Fetishist       2019                        \n",
       "14  tt0279481                     Travel Daze       2019                        \n",
       "17  tt0305295                     Bich bozhiy       2019                        \n",
       "30  tt0374682  Gombrowicz, l'Argentine et moi       2019                        \n",
       "\n",
       "   imdbVotes Title  \n",
       "6                   \n",
       "12                  \n",
       "14                  \n",
       "17                  \n",
       "30                  "
      ]
     },
     "execution_count": 8,
     "metadata": {},
     "output_type": "execute_result"
    }
   ],
   "source": [
    "movie_titles_clean = movie_titles_df[['tconst', 'primaryTitle', 'startYear']]\n",
    "\n",
    "# Make columns to import info into\n",
    "movie_titles_clean['Metascore'] = \" \"\n",
    "movie_titles_clean['imdbRating'] = \" \"\n",
    "movie_titles_clean['imdbVotes'] = \" \"\n",
    "movie_titles_clean['Title'] = \" \"\n",
    "\n",
    "\n",
    "print(f\"How many movies in (year) = {movie_titles_clean.primaryTitle.count()}\")\n",
    "\n",
    "movie_titles_clean.head()"
   ]
  },
  {
   "cell_type": "markdown",
   "metadata": {},
   "source": [
    "# OMDB pull"
   ]
  },
  {
   "cell_type": "code",
   "execution_count": null,
   "metadata": {
    "scrolled": true
   },
   "outputs": [],
   "source": [
    "# # make URL\n",
    "url_omdb = \"http://www.omdbapi.com/?apikey=\"+ \"e50136e9\" + \"&i=\"\n",
    "\n",
    "error_count = 0\n",
    "\n",
    "for index, row in movie_titles_clean.iterrows(): \n",
    "#     try:\n",
    "    movie_data = requests.get(url_omdb + str(movie_titles_clean.tconst[index])).json()\n",
    "    try:\n",
    "        movie_titles_clean.loc[index, 'Metascore'] = movie_data['Metascore']\n",
    "        movie_titles_clean.loc[index, 'imdbRating'] = movie_data['imdbRating']\n",
    "        movie_titles_clean.loc[index, 'imdbVotes'] = movie_data['imdbVotes']\n",
    "        movie_titles_clean.loc[index, 'Title'] = movie_data['Title']        \n",
    "    except (IndexError, KeyError, ValueError):\n",
    "        error_count +=1\n",
    "#     except(ValueError, KeyError, IndexError):\n",
    "#         error_count +=1   "
   ]
  },
  {
   "cell_type": "markdown",
   "metadata": {},
   "source": [
    "#### Save results as a CSV"
   ]
  },
  {
   "cell_type": "code",
   "execution_count": 27,
   "metadata": {},
   "outputs": [],
   "source": [
    "file_outpath = f\"Resources/OMDB_pull_{year}_error_count{error_count}.csv\"\n",
    "\n",
    "movie_titles_clean.to_csv(file_outpath)"
   ]
  },
  {
   "cell_type": "code",
   "execution_count": null,
   "metadata": {},
   "outputs": [],
   "source": []
  }
 ],
 "metadata": {
  "kernelspec": {
   "display_name": "Python [conda env:PythonUCI]",
   "language": "python",
   "name": "conda-env-PythonUCI-py"
  },
  "language_info": {
   "codemirror_mode": {
    "name": "ipython",
    "version": 3
   },
   "file_extension": ".py",
   "mimetype": "text/x-python",
   "name": "python",
   "nbconvert_exporter": "python",
   "pygments_lexer": "ipython3",
   "version": "3.6.12"
  }
 },
 "nbformat": 4,
 "nbformat_minor": 4
}
