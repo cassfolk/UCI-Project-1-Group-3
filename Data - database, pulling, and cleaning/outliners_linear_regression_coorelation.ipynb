{
 "cells": [
  {
   "cell_type": "code",
   "execution_count": 1,
   "metadata": {},
   "outputs": [],
   "source": []
  },
  {
   "cell_type": "code",
   "execution_count": null,
   "metadata": {},
   "outputs": [],
   "source": [
    "fig1, ax1 = plt.subplots()\n",
    "ax1.set_title('')\n",
    "ax1.set_ylabel('')\n",
    "ax1.boxplot(temperatures)\n",
    "plt.show()"
   ]
  },
  {
   "cell_type": "code",
   "execution_count": null,
   "metadata": {},
   "outputs": [],
   "source": [
    "quartiles = temperatures.quantile([.25,.5,.75])\n",
    "lowerq = quartiles[0.25]\n",
    "upperq = quartiles[0.75]\n",
    "iqr = upperq-lowerq\n",
    "\n",
    "print(f\"The lower quartile of  is: {lowerq}\")\n",
    "print(f\"The upper quartile of  is: {upperq}\")\n",
    "print(f\"The interquartile range of  is: {iqr}\")\n",
    "print(f\"The the median of  is: {quartiles[0.5]} \")\n",
    "\n",
    "lower_bound = lowerq - (1.5*iqr)\n",
    "upper_bound = upperq + (1.5*iqr)\n",
    "print(f\"Values below {lower_bound} could be outliers.\")\n",
    "print(f\"Values above {upper_bound} could be outliers.\")"
   ]
  },
  {
   "cell_type": "code",
   "execution_count": null,
   "metadata": {},
   "outputs": [],
   "source": [
    "# Set x and y values _df to extraxt from \n",
    "x_values =  _df[\" \"]\n",
    "y_values =  _df[\" \"]\n",
    "\n",
    "# Create scatter plot and linear regression line\n",
    "(slope, intercept, rvalue, pvalue, stderr) = linregress(x_values, y_values)\n",
    "regress_values = x_values * slope + intercept\n",
    "line_eq = \"y = \" + str(round(slope,2)) + \"x + \" + str(round(intercept,2))\n",
    "plt.scatter(x_values,y_values)\n",
    "plt.plot(x_values,regress_values,\"r-\")\n",
    "plt.annotate(line_eq,(6,10),fontsize=15,color=\"red\")\n",
    "\n",
    "# Assign labels\n",
    "plt.title(\" \")\n",
    "plt.xlabel(\" \")\n",
    "plt.ylabel(\" \")\n",
    "\n",
    "# Retrieve r-squared value squared \n",
    "#print(f\"The r-squared is: {rvalue**2}\")\n",
    "\n",
    "# Display\n",
    "plt.show()\n",
    "\n",
    "# Save scatter plot as png\n",
    "plt.savefig(\"\")"
   ]
  },
  {
   "cell_type": "code",
   "execution_count": null,
   "metadata": {},
   "outputs": [],
   "source": [
    "# Set x and y values _df to extraxt from \n",
    "x_values =  _df[\" \"]\n",
    "y_values =  _df[\" \"]\n",
    "\n",
    "# Create scatter plot and linear regression line\n",
    "(slope, intercept, rvalue, pvalue, stderr) = linregress(x_values, y_values)\n",
    "regress_values = x_values * slope + intercept\n",
    "line_eq = \"y = \" + str(round(slope,2)) + \"x + \" + str(round(intercept,2))\n",
    "plt.scatter(x_values,y_values)\n",
    "plt.plot(x_values,regress_values,\"r-\")\n",
    "plt.annotate(line_eq,(6,10),fontsize=15,color=\"red\")\n",
    "\n",
    "# Assign labels\n",
    "plt.title(\" \")\n",
    "plt.xlabel(\" \")\n",
    "plt.ylabel(\" \")\n",
    "\n",
    "# Retrieve r-squared value squared \n",
    "#print(f\"The r-squared is: {rvalue**2}\")\n",
    "\n",
    "# Display\n",
    "plt.show()\n",
    "\n",
    "# Save scatter plot as png\n",
    "plt.savefig(\"\")"
   ]
  },
  {
   "cell_type": "code",
   "execution_count": null,
   "metadata": {},
   "outputs": [],
   "source": [
    "# Set x and y values _df to extraxt from \n",
    "x_values =  _df[\" \"]\n",
    "y_values =  _df[\" \"]\n",
    "\n",
    "# Create scatter plot and linear regression line\n",
    "(slope, intercept, rvalue, pvalue, stderr) = linregress(x_values, y_values)\n",
    "regress_values = x_values * slope + intercept\n",
    "line_eq = \"y = \" + str(round(slope,2)) + \"x + \" + str(round(intercept,2))\n",
    "plt.scatter(x_values,y_values)\n",
    "plt.plot(x_values,regress_values,\"r-\")\n",
    "plt.annotate(line_eq,(6,10),fontsize=15,color=\"red\")\n",
    "\n",
    "# Assign labels\n",
    "plt.title(\" \")\n",
    "plt.xlabel(\" \")\n",
    "plt.ylabel(\" \")\n",
    "\n",
    "# Retrieve r-squared value squared \n",
    "#print(f\"The r-squared is: {rvalue**2}\")\n",
    "\n",
    "# Display\n",
    "plt.show()\n",
    "\n",
    "# Save scatter plot as png\n",
    "plt.savefig(\"\")"
   ]
  },
  {
   "cell_type": "code",
   "execution_count": null,
   "metadata": {},
   "outputs": [],
   "source": [
    "correlation = sts.pearsonr(volume_weight[\" \"], volume_weight[\" \"])\n",
    "print(f\"The correlation coefficient between both factors is {round(correlation[0],2)}\")"
   ]
  }
 ],
 "metadata": {
  "kernelspec": {
   "display_name": "Python [conda env:PythonData] *",
   "language": "python",
   "name": "conda-env-PythonData-py"
  },
  "language_info": {
   "codemirror_mode": {
    "name": "ipython",
    "version": 3
   },
   "file_extension": ".py",
   "mimetype": "text/x-python",
   "name": "python",
   "nbconvert_exporter": "python",
   "pygments_lexer": "ipython3",
   "version": "3.8.5"
  }
 },
 "nbformat": 4,
 "nbformat_minor": 4
}
