{
 "cells": [
  {
   "cell_type": "code",
   "execution_count": 1,
   "metadata": {},
   "outputs": [],
   "source": [
    "import pandas as pd\n",
    "import warnings\n",
    "warnings.filterwarnings('ignore')\n",
    "\n",
    "import requests\n",
    "import numpy as np\n",
    "from config import omdb_key\n",
    "from config import tmdb_key"
   ]
  },
  {
   "cell_type": "markdown",
   "metadata": {},
   "source": [
    "# Movies\n",
    "## Create DataFrame and CSV of Movie Titles"
   ]
  },
  {
   "cell_type": "code",
   "execution_count": 2,
   "metadata": {},
   "outputs": [
    {
     "name": "stdout",
     "output_type": "stream",
     "text": [
      "Index(['tconst', 'titleType', 'primaryTitle', 'originalTitle', 'isAdult',\n",
      "       'startYear', 'endYear', 'runtimeMinutes', 'genres'],\n",
      "      dtype='object')\n"
     ]
    },
    {
     "data": {
      "text/html": [
       "<div>\n",
       "<style scoped>\n",
       "    .dataframe tbody tr th:only-of-type {\n",
       "        vertical-align: middle;\n",
       "    }\n",
       "\n",
       "    .dataframe tbody tr th {\n",
       "        vertical-align: top;\n",
       "    }\n",
       "\n",
       "    .dataframe thead th {\n",
       "        text-align: right;\n",
       "    }\n",
       "</style>\n",
       "<table border=\"1\" class=\"dataframe\">\n",
       "  <thead>\n",
       "    <tr style=\"text-align: right;\">\n",
       "      <th></th>\n",
       "      <th>tconst</th>\n",
       "      <th>titleType</th>\n",
       "      <th>primaryTitle</th>\n",
       "      <th>originalTitle</th>\n",
       "      <th>isAdult</th>\n",
       "      <th>startYear</th>\n",
       "      <th>endYear</th>\n",
       "      <th>runtimeMinutes</th>\n",
       "      <th>genres</th>\n",
       "    </tr>\n",
       "  </thead>\n",
       "  <tbody>\n",
       "    <tr>\n",
       "      <th>0</th>\n",
       "      <td>tt0000001</td>\n",
       "      <td>short</td>\n",
       "      <td>Carmencita</td>\n",
       "      <td>Carmencita</td>\n",
       "      <td>0</td>\n",
       "      <td>1894</td>\n",
       "      <td>\\N</td>\n",
       "      <td>1</td>\n",
       "      <td>Documentary,Short</td>\n",
       "    </tr>\n",
       "    <tr>\n",
       "      <th>1</th>\n",
       "      <td>tt0000002</td>\n",
       "      <td>short</td>\n",
       "      <td>Le clown et ses chiens</td>\n",
       "      <td>Le clown et ses chiens</td>\n",
       "      <td>0</td>\n",
       "      <td>1892</td>\n",
       "      <td>\\N</td>\n",
       "      <td>5</td>\n",
       "      <td>Animation,Short</td>\n",
       "    </tr>\n",
       "  </tbody>\n",
       "</table>\n",
       "</div>"
      ],
      "text/plain": [
       "      tconst titleType            primaryTitle           originalTitle  \\\n",
       "0  tt0000001     short              Carmencita              Carmencita   \n",
       "1  tt0000002     short  Le clown et ses chiens  Le clown et ses chiens   \n",
       "\n",
       "   isAdult startYear endYear runtimeMinutes             genres  \n",
       "0        0      1894      \\N              1  Documentary,Short  \n",
       "1        0      1892      \\N              5    Animation,Short  "
      ]
     },
     "execution_count": 2,
     "metadata": {},
     "output_type": "execute_result"
    }
   ],
   "source": [
    "file_path = 'Resources/Data_from_web/title.basics.tsv'\n",
    "movie_titles_df = pd.read_csv(file_path, sep='\\t')\n",
    "\n",
    "print(movie_titles_df.columns)\n",
    "movie_titles_df.head(2)\n"
   ]
  },
  {
   "cell_type": "code",
   "execution_count": 3,
   "metadata": {},
   "outputs": [],
   "source": [
    "movie_titles_clean = movie_titles_df[['tconst', 'titleType', 'primaryTitle', 'isAdult', \n",
    "                                      'startYear', 'genres']]\n",
    "\n",
    "# Get rid of '\\N' values in startYear\n",
    "movie_titles_clean = movie_titles_clean[movie_titles_clean['startYear'] != r'\\N']\n",
    "\n",
    "# need to convert type to int & string\n",
    "movie_titles_clean = movie_titles_clean.astype({'startYear': int,\n",
    "                                                'titleType': 'string'})\n",
    "\n",
    "# filter language based on Englsih 2015-2019\n",
    "movie_titles_clean = movie_titles_clean[(movie_titles_clean.startYear > 2014) & \n",
    "                                        (movie_titles_clean.startYear < 2020)]\n",
    "\n",
    "# weed out adult  films & narrow down results to movies\n",
    "movie_titles_clean = movie_titles_clean[movie_titles_clean['titleType'] == 'movie']\n",
    "movie_titles_clean = movie_titles_clean[movie_titles_clean['isAdult'] == 0]\n",
    "\n",
    "# remove any potential duplicates (tconst column)\n",
    "movie_titles_clean = movie_titles_clean.drop_duplicates(subset=['tconst'])\n"
   ]
  },
  {
   "cell_type": "code",
   "execution_count": 4,
   "metadata": {
    "scrolled": true
   },
   "outputs": [
    {
     "name": "stdout",
     "output_type": "stream",
     "text": [
      "THIS IS HOW MANY MOVIES: 84294\n"
     ]
    },
    {
     "data": {
      "text/html": [
       "<div>\n",
       "<style scoped>\n",
       "    .dataframe tbody tr th:only-of-type {\n",
       "        vertical-align: middle;\n",
       "    }\n",
       "\n",
       "    .dataframe tbody tr th {\n",
       "        vertical-align: top;\n",
       "    }\n",
       "\n",
       "    .dataframe thead th {\n",
       "        text-align: right;\n",
       "    }\n",
       "</style>\n",
       "<table border=\"1\" class=\"dataframe\">\n",
       "  <thead>\n",
       "    <tr style=\"text-align: right;\">\n",
       "      <th></th>\n",
       "      <th>tconst</th>\n",
       "      <th>titleType</th>\n",
       "      <th>primaryTitle</th>\n",
       "      <th>isAdult</th>\n",
       "      <th>startYear</th>\n",
       "      <th>genres</th>\n",
       "    </tr>\n",
       "  </thead>\n",
       "  <tbody>\n",
       "    <tr>\n",
       "      <th>67687</th>\n",
       "      <td>tt0069049</td>\n",
       "      <td>movie</td>\n",
       "      <td>The Other Side of the Wind</td>\n",
       "      <td>0</td>\n",
       "      <td>2018</td>\n",
       "      <td>Drama</td>\n",
       "    </tr>\n",
       "    <tr>\n",
       "      <th>70840</th>\n",
       "      <td>tt0072306</td>\n",
       "      <td>movie</td>\n",
       "      <td>Toula ou Le génie des eaux</td>\n",
       "      <td>0</td>\n",
       "      <td>2017</td>\n",
       "      <td>Drama</td>\n",
       "    </tr>\n",
       "  </tbody>\n",
       "</table>\n",
       "</div>"
      ],
      "text/plain": [
       "          tconst titleType                primaryTitle  isAdult  startYear  \\\n",
       "67687  tt0069049     movie  The Other Side of the Wind        0       2018   \n",
       "70840  tt0072306     movie  Toula ou Le génie des eaux        0       2017   \n",
       "\n",
       "      genres  \n",
       "67687  Drama  \n",
       "70840  Drama  "
      ]
     },
     "execution_count": 4,
     "metadata": {},
     "output_type": "execute_result"
    }
   ],
   "source": [
    "print(f\"THIS IS HOW MANY MOVIES: {movie_titles_clean.startYear.count()}\")\n",
    "movie_titles_clean.head(2)"
   ]
  },
  {
   "cell_type": "markdown",
   "metadata": {},
   "source": [
    "# OMDB\n",
    "### Pulling in data & preparign data for pull\n",
    "* Due to the large number of movies we wished to query, we divided it down into pulling per year"
   ]
  },
  {
   "cell_type": "code",
   "execution_count": 11,
   "metadata": {},
   "outputs": [
    {
     "data": {
      "text/html": [
       "<div>\n",
       "<style scoped>\n",
       "    .dataframe tbody tr th:only-of-type {\n",
       "        vertical-align: middle;\n",
       "    }\n",
       "\n",
       "    .dataframe tbody tr th {\n",
       "        vertical-align: top;\n",
       "    }\n",
       "\n",
       "    .dataframe thead th {\n",
       "        text-align: right;\n",
       "    }\n",
       "</style>\n",
       "<table border=\"1\" class=\"dataframe\">\n",
       "  <thead>\n",
       "    <tr style=\"text-align: right;\">\n",
       "      <th></th>\n",
       "      <th>tconst</th>\n",
       "      <th>titleType</th>\n",
       "      <th>primaryTitle</th>\n",
       "      <th>isAdult</th>\n",
       "      <th>startYear</th>\n",
       "      <th>genres</th>\n",
       "    </tr>\n",
       "  </thead>\n",
       "  <tbody>\n",
       "    <tr>\n",
       "      <th>114398</th>\n",
       "      <td>tt0116991</td>\n",
       "      <td>movie</td>\n",
       "      <td>Mariette in Ecstasy</td>\n",
       "      <td>0</td>\n",
       "      <td>2019</td>\n",
       "      <td>Drama</td>\n",
       "    </tr>\n",
       "    <tr>\n",
       "      <th>264758</th>\n",
       "      <td>tt0276132</td>\n",
       "      <td>movie</td>\n",
       "      <td>The Fetishist</td>\n",
       "      <td>0</td>\n",
       "      <td>2019</td>\n",
       "      <td>Animation</td>\n",
       "    </tr>\n",
       "  </tbody>\n",
       "</table>\n",
       "</div>"
      ],
      "text/plain": [
       "           tconst titleType         primaryTitle  isAdult  startYear  \\\n",
       "114398  tt0116991     movie  Mariette in Ecstasy        0       2019   \n",
       "264758  tt0276132     movie        The Fetishist        0       2019   \n",
       "\n",
       "           genres  \n",
       "114398      Drama  \n",
       "264758  Animation  "
      ]
     },
     "execution_count": 11,
     "metadata": {},
     "output_type": "execute_result"
    }
   ],
   "source": [
    "OMDB_titles_df = movie_titles_clean.copy()\n",
    "\n",
    "# Due to the large number of titles, we broke this pull into pulling per year\n",
    "# CHANGE YEAR PER PULL\n",
    "year = 2019\n",
    "OMDB_titles_df = OMDB_titles_df[(OMDB_titles_df.startYear == year)]"
   ]
  },
  {
   "cell_type": "code",
   "execution_count": 12,
   "metadata": {},
   "outputs": [
    {
     "name": "stdout",
     "output_type": "stream",
     "text": [
      "How many movies in 2019 = 16352\n"
     ]
    },
    {
     "data": {
      "text/html": [
       "<div>\n",
       "<style scoped>\n",
       "    .dataframe tbody tr th:only-of-type {\n",
       "        vertical-align: middle;\n",
       "    }\n",
       "\n",
       "    .dataframe tbody tr th {\n",
       "        vertical-align: top;\n",
       "    }\n",
       "\n",
       "    .dataframe thead th {\n",
       "        text-align: right;\n",
       "    }\n",
       "</style>\n",
       "<table border=\"1\" class=\"dataframe\">\n",
       "  <thead>\n",
       "    <tr style=\"text-align: right;\">\n",
       "      <th></th>\n",
       "      <th>tconst</th>\n",
       "      <th>primaryTitle</th>\n",
       "      <th>startYear</th>\n",
       "      <th>Metascore</th>\n",
       "      <th>imdbRating</th>\n",
       "      <th>imdbVotes</th>\n",
       "      <th>Title</th>\n",
       "    </tr>\n",
       "  </thead>\n",
       "  <tbody>\n",
       "    <tr>\n",
       "      <th>114398</th>\n",
       "      <td>tt0116991</td>\n",
       "      <td>Mariette in Ecstasy</td>\n",
       "      <td>2019</td>\n",
       "      <td></td>\n",
       "      <td></td>\n",
       "      <td></td>\n",
       "      <td></td>\n",
       "    </tr>\n",
       "    <tr>\n",
       "      <th>264758</th>\n",
       "      <td>tt0276132</td>\n",
       "      <td>The Fetishist</td>\n",
       "      <td>2019</td>\n",
       "      <td></td>\n",
       "      <td></td>\n",
       "      <td></td>\n",
       "      <td></td>\n",
       "    </tr>\n",
       "  </tbody>\n",
       "</table>\n",
       "</div>"
      ],
      "text/plain": [
       "           tconst         primaryTitle  startYear Metascore imdbRating  \\\n",
       "114398  tt0116991  Mariette in Ecstasy       2019                        \n",
       "264758  tt0276132        The Fetishist       2019                        \n",
       "\n",
       "       imdbVotes Title  \n",
       "114398                  \n",
       "264758                  "
      ]
     },
     "execution_count": 12,
     "metadata": {},
     "output_type": "execute_result"
    }
   ],
   "source": [
    "# Cleaning the data for OMDB pull\n",
    "\n",
    "OMDB_titles_clean_df = OMDB_titles_df[['tconst', 'primaryTitle', 'startYear']]\n",
    "\n",
    "# Make columns to import info into\n",
    "OMDB_titles_clean_df['Metascore'] = \" \"\n",
    "OMDB_titles_clean_df['imdbRating'] = \" \"\n",
    "OMDB_titles_clean_df['imdbVotes'] = \" \"\n",
    "OMDB_titles_clean_df['Title'] = \" \"\n",
    "\n",
    "\n",
    "print(f\"How many movies in {year} = {OMDB_titles_clean_df.primaryTitle.count()}\")\n",
    "\n",
    "OMDB_titles_clean_df.head(2)"
   ]
  },
  {
   "cell_type": "markdown",
   "metadata": {},
   "source": [
    "### Pull OMDB"
   ]
  },
  {
   "cell_type": "code",
   "execution_count": 13,
   "metadata": {},
   "outputs": [],
   "source": [
    "# # make URL\n",
    "url_omdb = \"http://www.omdbapi.com/?apikey=\"+ omdb_key + \"&i=\"\n",
    "\n",
    "error_count = 0\n",
    "\n",
    "for index, row in OMDB_titles_clean_df.iterrows(): \n",
    "    try:\n",
    "        movie_data = requests.get(url_omdb + str(movie_titles_clean.tconst[index])).json()\n",
    "        try:\n",
    "            OMDB_titles_clean_df.loc[index, 'Metascore'] = movie_data['Metascore']\n",
    "            OMDB_titles_clean_df.loc[index, 'imdbRating'] = movie_data['imdbRating']\n",
    "            OMDB_titles_clean_df.loc[index, 'imdbVotes'] = movie_data['imdbVotes']\n",
    "            OMDB_titles_clean_df.loc[index, 'Title'] = movie_data['Title']        \n",
    "        except (IndexError, KeyError, ValueError):\n",
    "            error_count +=1\n",
    "    # Added for OMDB errors when their system returns JSONDecodeError (ValueError on their side - years 2016, 2017)\n",
    "    except(ValueError, TypeError):\n",
    "        error_count +=1   "
   ]
  },
  {
   "cell_type": "markdown",
   "metadata": {},
   "source": [
    "### Save data as CSV"
   ]
  },
  {
   "cell_type": "code",
   "execution_count": 16,
   "metadata": {},
   "outputs": [
    {
     "data": {
      "text/html": [
       "<div>\n",
       "<style scoped>\n",
       "    .dataframe tbody tr th:only-of-type {\n",
       "        vertical-align: middle;\n",
       "    }\n",
       "\n",
       "    .dataframe tbody tr th {\n",
       "        vertical-align: top;\n",
       "    }\n",
       "\n",
       "    .dataframe thead th {\n",
       "        text-align: right;\n",
       "    }\n",
       "</style>\n",
       "<table border=\"1\" class=\"dataframe\">\n",
       "  <thead>\n",
       "    <tr style=\"text-align: right;\">\n",
       "      <th></th>\n",
       "      <th>tconst</th>\n",
       "      <th>primaryTitle</th>\n",
       "      <th>startYear</th>\n",
       "      <th>Metascore</th>\n",
       "      <th>imdbRating</th>\n",
       "      <th>imdbVotes</th>\n",
       "      <th>Title</th>\n",
       "    </tr>\n",
       "  </thead>\n",
       "  <tbody>\n",
       "    <tr>\n",
       "      <th>114398</th>\n",
       "      <td>tt0116991</td>\n",
       "      <td>Mariette in Ecstasy</td>\n",
       "      <td>2019</td>\n",
       "      <td>N/A</td>\n",
       "      <td>7.8</td>\n",
       "      <td>26</td>\n",
       "      <td>Mariette in Ecstasy</td>\n",
       "    </tr>\n",
       "    <tr>\n",
       "      <th>264758</th>\n",
       "      <td>tt0276132</td>\n",
       "      <td>The Fetishist</td>\n",
       "      <td>2019</td>\n",
       "      <td>N/A</td>\n",
       "      <td>N/A</td>\n",
       "      <td>N/A</td>\n",
       "      <td>The Fetishist</td>\n",
       "    </tr>\n",
       "  </tbody>\n",
       "</table>\n",
       "</div>"
      ],
      "text/plain": [
       "           tconst         primaryTitle  startYear Metascore imdbRating  \\\n",
       "114398  tt0116991  Mariette in Ecstasy       2019       N/A        7.8   \n",
       "264758  tt0276132        The Fetishist       2019       N/A        N/A   \n",
       "\n",
       "       imdbVotes                Title  \n",
       "114398        26  Mariette in Ecstasy  \n",
       "264758       N/A        The Fetishist  "
      ]
     },
     "execution_count": 16,
     "metadata": {},
     "output_type": "execute_result"
    }
   ],
   "source": [
    "file_outpath = f\"Resources/OMDB_pull_{year}_error_count{error_count}.csv\"\n",
    "\n",
    "OMDB_titles_clean_df.to_csv(file_outpath)\n",
    "OMDB_titles_clean_df.head(2)"
   ]
  },
  {
   "cell_type": "markdown",
   "metadata": {},
   "source": [
    "# TMDB\n",
    "### Pulling in data & preparing data for pull"
   ]
  },
  {
   "cell_type": "code",
   "execution_count": 15,
   "metadata": {},
   "outputs": [
    {
     "data": {
      "text/html": [
       "<div>\n",
       "<style scoped>\n",
       "    .dataframe tbody tr th:only-of-type {\n",
       "        vertical-align: middle;\n",
       "    }\n",
       "\n",
       "    .dataframe tbody tr th {\n",
       "        vertical-align: top;\n",
       "    }\n",
       "\n",
       "    .dataframe thead th {\n",
       "        text-align: right;\n",
       "    }\n",
       "</style>\n",
       "<table border=\"1\" class=\"dataframe\">\n",
       "  <thead>\n",
       "    <tr style=\"text-align: right;\">\n",
       "      <th></th>\n",
       "      <th>tconst</th>\n",
       "      <th>primaryTitle</th>\n",
       "      <th>startYear</th>\n",
       "    </tr>\n",
       "  </thead>\n",
       "  <tbody>\n",
       "    <tr>\n",
       "      <th>114398</th>\n",
       "      <td>tt0116991</td>\n",
       "      <td>Mariette in Ecstasy</td>\n",
       "      <td>2019</td>\n",
       "    </tr>\n",
       "    <tr>\n",
       "      <th>264758</th>\n",
       "      <td>tt0276132</td>\n",
       "      <td>The Fetishist</td>\n",
       "      <td>2019</td>\n",
       "    </tr>\n",
       "  </tbody>\n",
       "</table>\n",
       "</div>"
      ],
      "text/plain": [
       "           tconst         primaryTitle  startYear\n",
       "114398  tt0116991  Mariette in Ecstasy       2019\n",
       "264758  tt0276132        The Fetishist       2019"
      ]
     },
     "execution_count": 15,
     "metadata": {},
     "output_type": "execute_result"
    }
   ],
   "source": [
    "# CHANGE YEAR FOR PULL \n",
    "year = 2019\n",
    "\n",
    "TMDB_movie_titles_df = movie_titles_clean.copy()\n",
    "\n",
    "TMDB_movies_df = TMDB_movie_titles_df[['tconst', 'primaryTitle', 'startYear']]\n",
    "TMDB_movies_df = TMDB_movies_df[(TMDB_movies_df.startYear == year)]\n",
    "\n",
    "beginning_number = TMDB_movies_df.tconst.count()\n",
    "TMDB_movies_df.head(2)\n"
   ]
  },
  {
   "cell_type": "code",
   "execution_count": 17,
   "metadata": {},
   "outputs": [],
   "source": [
    "# change title name to have + instead of ' '\n",
    "TMDB_movies_df['primaryTitle'] = TMDB_movies_df['primaryTitle'].str.replace(\" \", \"+\")\n",
    "\n",
    "\n",
    "# ******Error 1: need to remove # from the beginning of titles for TMDB to work\n",
    "\n",
    "# variable cause starswith() wasn't happy with '#'\n",
    "pound_sign = '#'\n",
    "\n",
    "# make dataframe for pound sign = True (startswith() returns True/False)\n",
    "replace_pound_df = TMDB_movies_df.iloc[:, 0:3]\n",
    "replace_pound_df.primaryTitle = replace_pound_df.primaryTitle.str.startswith(pound_sign)\n",
    "\n",
    "# make df for ONLY the True values + primaryTitle from TMDB_movies_df\n",
    "pound_true_df = replace_pound_df.loc[replace_pound_df.primaryTitle == True]\n",
    "pound_true_df['TITLE'] = TMDB_movies_df['primaryTitle']\n",
    "\n",
    "# Fix titles to not have # in the front & clean up columns\n",
    "pound_true_df['TITLE'] = pound_true_df['TITLE'].str.replace(pound_sign, \"\")\n",
    "pound_true_clean_df = pound_true_df.drop(columns=['primaryTitle', 'startYear'])\n",
    "pound_true_clean_df = pound_true_clean_df.rename(columns={'TITLE': 'primaryTitle'})\n",
    "\n",
    "# Merge 2 dfs, replace blank primaryTitle_y values with na so you can do fillna into a \n",
    "# nice new clean has correct info column & delete primaryTitle_y/x\n",
    "titles_combined_df = pd.merge(TMDB_movies_df, pound_true_clean_df, how='outer', on='tconst')\n",
    "titles_combined_df['primaryTitle_y'] = titles_combined_df['primaryTitle_y'].str.replace(\" \", \"nan\")\n",
    "titles_combined_df[\"primaryTitle\"] = titles_combined_df[\"primaryTitle_y\"].fillna(titles_combined_df[\"primaryTitle_x\"])\n",
    "titles_fixed_df = titles_combined_df.drop(columns=['primaryTitle_y', 'primaryTitle_x'])\n",
    "\n",
    "\n",
    "# FINALLY make movie titles into a list so you can run it\n",
    "movies = titles_fixed_df['primaryTitle'].tolist()\n"
   ]
  },
  {
   "cell_type": "markdown",
   "metadata": {},
   "source": [
    "### TMDB pull 1 for TMDB IDs"
   ]
  },
  {
   "cell_type": "code",
   "execution_count": 18,
   "metadata": {},
   "outputs": [],
   "source": [
    "url_tmdb_id = \"https://api.themoviedb.org/3/search/movie?api_key=\" + tmdb_key + \"&query=\"\n",
    "\n",
    "response_tmdb_id = []\n",
    "str_year = \"&y=\" + str(year)\n",
    "\n",
    "error_count = 0\n",
    "\n",
    "for movie in movies: \n",
    "    try: \n",
    "        movie_data = requests.get(url_tmdb_id + movie + str_year).json()\n",
    "        if (movie_data['total_results'] == 1):\n",
    "            response_tmdb_id.append(movie_data['results'][0]['id'])       \n",
    "        else:\n",
    "            error_count += 1\n",
    "    except (IndexError, KeyError, ValueError):\n",
    "        error_count += 1"
   ]
  },
  {
   "cell_type": "markdown",
   "metadata": {},
   "source": [
    "### Save data as CSV"
   ]
  },
  {
   "cell_type": "code",
   "execution_count": 126,
   "metadata": {},
   "outputs": [
    {
     "data": {
      "text/html": [
       "<div>\n",
       "<style scoped>\n",
       "    .dataframe tbody tr th:only-of-type {\n",
       "        vertical-align: middle;\n",
       "    }\n",
       "\n",
       "    .dataframe tbody tr th {\n",
       "        vertical-align: top;\n",
       "    }\n",
       "\n",
       "    .dataframe thead th {\n",
       "        text-align: right;\n",
       "    }\n",
       "</style>\n",
       "<table border=\"1\" class=\"dataframe\">\n",
       "  <thead>\n",
       "    <tr style=\"text-align: right;\">\n",
       "      <th></th>\n",
       "      <th>ID</th>\n",
       "    </tr>\n",
       "  </thead>\n",
       "  <tbody>\n",
       "    <tr>\n",
       "      <th>0</th>\n",
       "      <td>283587</td>\n",
       "    </tr>\n",
       "    <tr>\n",
       "      <th>1</th>\n",
       "      <td>347969</td>\n",
       "    </tr>\n",
       "  </tbody>\n",
       "</table>\n",
       "</div>"
      ],
      "text/plain": [
       "       ID\n",
       "0  283587\n",
       "1  347969"
      ]
     },
     "execution_count": 126,
     "metadata": {},
     "output_type": "execute_result"
    }
   ],
   "source": [
    "file_outpath = f\"Resources/TMDB_pull_1_{year}_error_count{error_count}.csv\"\n",
    "\n",
    "TMDB_df = pd.DataFrame(response_tmdb_id,columns=['ID'],dtype=object)\n",
    "TMDB_df.to_csv(file_outpath)\n",
    "TMDB_df.head(2)"
   ]
  },
  {
   "cell_type": "markdown",
   "metadata": {},
   "source": [
    "### TMDB pull 2 for movie information"
   ]
  },
  {
   "cell_type": "code",
   "execution_count": 21,
   "metadata": {},
   "outputs": [
    {
     "data": {
      "text/html": [
       "<div>\n",
       "<style scoped>\n",
       "    .dataframe tbody tr th:only-of-type {\n",
       "        vertical-align: middle;\n",
       "    }\n",
       "\n",
       "    .dataframe tbody tr th {\n",
       "        vertical-align: top;\n",
       "    }\n",
       "\n",
       "    .dataframe thead th {\n",
       "        text-align: right;\n",
       "    }\n",
       "</style>\n",
       "<table border=\"1\" class=\"dataframe\">\n",
       "  <thead>\n",
       "    <tr style=\"text-align: right;\">\n",
       "      <th></th>\n",
       "      <th>ID</th>\n",
       "      <th>imdb_id</th>\n",
       "      <th>release_date</th>\n",
       "      <th>budget</th>\n",
       "      <th>revenue</th>\n",
       "      <th>genres</th>\n",
       "      <th>original_language</th>\n",
       "      <th>original_title</th>\n",
       "      <th>origin_country</th>\n",
       "      <th>production_countries name</th>\n",
       "      <th>spoken_languages name</th>\n",
       "    </tr>\n",
       "  </thead>\n",
       "  <tbody>\n",
       "    <tr>\n",
       "      <th>0</th>\n",
       "      <td>492619</td>\n",
       "      <td></td>\n",
       "      <td></td>\n",
       "      <td></td>\n",
       "      <td></td>\n",
       "      <td></td>\n",
       "      <td></td>\n",
       "      <td></td>\n",
       "      <td></td>\n",
       "      <td></td>\n",
       "      <td></td>\n",
       "    </tr>\n",
       "    <tr>\n",
       "      <th>1</th>\n",
       "      <td>633838</td>\n",
       "      <td></td>\n",
       "      <td></td>\n",
       "      <td></td>\n",
       "      <td></td>\n",
       "      <td></td>\n",
       "      <td></td>\n",
       "      <td></td>\n",
       "      <td></td>\n",
       "      <td></td>\n",
       "      <td></td>\n",
       "    </tr>\n",
       "  </tbody>\n",
       "</table>\n",
       "</div>"
      ],
      "text/plain": [
       "       ID imdb_id release_date budget revenue genres original_language  \\\n",
       "0  492619                                                                \n",
       "1  633838                                                                \n",
       "\n",
       "  original_title origin_country production_countries name  \\\n",
       "0                                                           \n",
       "1                                                           \n",
       "\n",
       "  spoken_languages name  \n",
       "0                        \n",
       "1                        "
      ]
     },
     "execution_count": 21,
     "metadata": {},
     "output_type": "execute_result"
    }
   ],
   "source": [
    "url_tmdb_movie = \"https://api.themoviedb.org/3/movie/\"\n",
    "\n",
    "# Make columns to import info into\n",
    "TMDB_df['imdb_id'] = \" \"\n",
    "TMDB_df['release_date'] = \" \"\n",
    "TMDB_df['budget'] = \" \"\n",
    "TMDB_df['revenue'] = \" \"\n",
    "TMDB_df['genres'] = \" \"\n",
    "TMDB_df['original_language'] = \" \"\n",
    "TMDB_df['original_title'] = \" \"\n",
    "TMDB_df['origin_country'] = \" \"\n",
    "TMDB_df['production_countries name'] = \" \"\n",
    "TMDB_df['spoken_languages name'] = \" \"\n",
    "TMDB_df.head(2)"
   ]
  },
  {
   "cell_type": "code",
   "execution_count": 22,
   "metadata": {},
   "outputs": [],
   "source": [
    "error_count_info = 0\n",
    "\n",
    "for index, row in TMDB_df.iterrows(): \n",
    "    movie_data = requests.get(url_tmdb_movie + str(TMDB_df.ID[index]) + \"?api_key=\" + tmdb_key).json()\n",
    "    try:\n",
    "        TMDB_df.loc[index, 'imdb_id'] = movie_data['imdb_id']\n",
    "        TMDB_df.loc[index, 'release_date'] = movie_data['release_date']\n",
    "        TMDB_df.loc[index, 'budget'] = movie_data['budget']\n",
    "        TMDB_df.loc[index, 'revenue'] = movie_data['revenue']\n",
    "        TMDB_df.loc[index, 'original_language'] = movie_data['spoken_languages'][0]['name']\n",
    "        TMDB_df.loc[index, 'original_title'] = movie_data['original_title']\n",
    "        TMDB_df.loc[index, 'origin_country'] = movie_data['production_countries'][0]['iso_3166_1']\n",
    "        TMDB_df.loc[index, 'production_countries name'] = movie_data['production_countries'][0]['name']\n",
    "        TMDB_df.loc[index, 'spoken_languages name'] = movie_data['spoken_languages'][0]['name']\n",
    "        TMDB_df.loc[index, 'genres'] = movie_data['genres'][0]['name']    \n",
    "    except (IndexError, KeyError):\n",
    "        error_count_info +=1"
   ]
  },
  {
   "cell_type": "markdown",
   "metadata": {},
   "source": [
    "### Save data as CSV"
   ]
  },
  {
   "cell_type": "code",
   "execution_count": 23,
   "metadata": {},
   "outputs": [
    {
     "data": {
      "text/html": [
       "<div>\n",
       "<style scoped>\n",
       "    .dataframe tbody tr th:only-of-type {\n",
       "        vertical-align: middle;\n",
       "    }\n",
       "\n",
       "    .dataframe tbody tr th {\n",
       "        vertical-align: top;\n",
       "    }\n",
       "\n",
       "    .dataframe thead th {\n",
       "        text-align: right;\n",
       "    }\n",
       "</style>\n",
       "<table border=\"1\" class=\"dataframe\">\n",
       "  <thead>\n",
       "    <tr style=\"text-align: right;\">\n",
       "      <th></th>\n",
       "      <th>ID</th>\n",
       "      <th>imdb_id</th>\n",
       "      <th>release_date</th>\n",
       "      <th>budget</th>\n",
       "      <th>revenue</th>\n",
       "      <th>genres</th>\n",
       "      <th>original_language</th>\n",
       "      <th>original_title</th>\n",
       "      <th>origin_country</th>\n",
       "      <th>production_countries name</th>\n",
       "      <th>spoken_languages name</th>\n",
       "    </tr>\n",
       "  </thead>\n",
       "  <tbody>\n",
       "    <tr>\n",
       "      <th>0</th>\n",
       "      <td>492619</td>\n",
       "      <td>tt0116991</td>\n",
       "      <td>1996-07-04</td>\n",
       "      <td>0</td>\n",
       "      <td>0</td>\n",
       "      <td>Drama</td>\n",
       "      <td>English</td>\n",
       "      <td>Mariette in Ecstasy</td>\n",
       "      <td>US</td>\n",
       "      <td>United States of America</td>\n",
       "      <td>English</td>\n",
       "    </tr>\n",
       "    <tr>\n",
       "      <th>1</th>\n",
       "      <td>633838</td>\n",
       "      <td>tt0276132</td>\n",
       "      <td>1997-01-01</td>\n",
       "      <td>0</td>\n",
       "      <td>0</td>\n",
       "      <td></td>\n",
       "      <td></td>\n",
       "      <td></td>\n",
       "      <td></td>\n",
       "      <td></td>\n",
       "      <td></td>\n",
       "    </tr>\n",
       "  </tbody>\n",
       "</table>\n",
       "</div>"
      ],
      "text/plain": [
       "       ID    imdb_id release_date budget revenue genres original_language  \\\n",
       "0  492619  tt0116991   1996-07-04      0       0  Drama           English   \n",
       "1  633838  tt0276132   1997-01-01      0       0                            \n",
       "\n",
       "        original_title origin_country production_countries name  \\\n",
       "0  Mariette in Ecstasy             US  United States of America   \n",
       "1                                                                 \n",
       "\n",
       "  spoken_languages name  \n",
       "0               English  \n",
       "1                        "
      ]
     },
     "execution_count": 23,
     "metadata": {},
     "output_type": "execute_result"
    }
   ],
   "source": [
    "file_outpath_2 = f\"Resources/TMDB_pull_2_{year}_error_count{error_count_info}.csv\"\n",
    "\n",
    "TMDB_df.to_csv(file_outpath_2)\n",
    "TMDB_df.head(2)"
   ]
  },
  {
   "cell_type": "markdown",
   "metadata": {},
   "source": [
    "### CLEANING if budget = 0, revenue = 0, IMDB_id not found\n",
    "* This is to help keep the file size down by dropping rows we cannot use or cannot match up"
   ]
  },
  {
   "cell_type": "code",
   "execution_count": 24,
   "metadata": {},
   "outputs": [],
   "source": [
    "movie_info_pulled_df = TMDB_df.copy()\n",
    "movie_info_pulled_df.head()\n",
    "\n",
    "movie_info_pulled_df = movie_info_pulled_df[movie_info_pulled_df.budget != 0]\n",
    "movie_info_pulled_df = movie_info_pulled_df[movie_info_pulled_df.revenue != 0]\n",
    "movie_info_pulled_df = movie_info_pulled_df.dropna(subset=['imdb_id'])\n",
    "\n",
    "final_number = movie_info_pulled_df.imdb_id.count()"
   ]
  },
  {
   "cell_type": "markdown",
   "metadata": {},
   "source": [
    "#### Save results as a CSV"
   ]
  },
  {
   "cell_type": "code",
   "execution_count": 25,
   "metadata": {},
   "outputs": [
    {
     "data": {
      "text/html": [
       "<div>\n",
       "<style scoped>\n",
       "    .dataframe tbody tr th:only-of-type {\n",
       "        vertical-align: middle;\n",
       "    }\n",
       "\n",
       "    .dataframe tbody tr th {\n",
       "        vertical-align: top;\n",
       "    }\n",
       "\n",
       "    .dataframe thead th {\n",
       "        text-align: right;\n",
       "    }\n",
       "</style>\n",
       "<table border=\"1\" class=\"dataframe\">\n",
       "  <thead>\n",
       "    <tr style=\"text-align: right;\">\n",
       "      <th></th>\n",
       "      <th>ID</th>\n",
       "      <th>imdb_id</th>\n",
       "      <th>release_date</th>\n",
       "      <th>budget</th>\n",
       "      <th>revenue</th>\n",
       "      <th>genres</th>\n",
       "      <th>original_language</th>\n",
       "      <th>original_title</th>\n",
       "      <th>origin_country</th>\n",
       "      <th>production_countries name</th>\n",
       "      <th>spoken_languages name</th>\n",
       "    </tr>\n",
       "  </thead>\n",
       "  <tbody>\n",
       "    <tr>\n",
       "      <th>3</th>\n",
       "      <td>504562</td>\n",
       "      <td>tt0385887</td>\n",
       "      <td>2019-10-31</td>\n",
       "      <td>26000000</td>\n",
       "      <td>18377736</td>\n",
       "      <td>Drama</td>\n",
       "      <td>English</td>\n",
       "      <td>Motherless Brooklyn</td>\n",
       "      <td>US</td>\n",
       "      <td>United States of America</td>\n",
       "      <td>English</td>\n",
       "    </tr>\n",
       "    <tr>\n",
       "      <th>17</th>\n",
       "      <td>586776</td>\n",
       "      <td>tt10011102</td>\n",
       "      <td>2019-03-08</td>\n",
       "      <td>1000</td>\n",
       "      <td>1000</td>\n",
       "      <td>Action</td>\n",
       "      <td>हिन्दी</td>\n",
       "      <td>The Sholay Girl</td>\n",
       "      <td>IN</td>\n",
       "      <td>India</td>\n",
       "      <td>हिन्दी</td>\n",
       "    </tr>\n",
       "  </tbody>\n",
       "</table>\n",
       "</div>"
      ],
      "text/plain": [
       "        ID     imdb_id release_date    budget   revenue  genres  \\\n",
       "3   504562   tt0385887   2019-10-31  26000000  18377736   Drama   \n",
       "17  586776  tt10011102   2019-03-08      1000      1000  Action   \n",
       "\n",
       "   original_language       original_title origin_country  \\\n",
       "3            English  Motherless Brooklyn             US   \n",
       "17            हिन्दी      The Sholay Girl             IN   \n",
       "\n",
       "   production_countries name spoken_languages name  \n",
       "3   United States of America               English  \n",
       "17                     India                हिन्दी  "
      ]
     },
     "execution_count": 25,
     "metadata": {},
     "output_type": "execute_result"
    }
   ],
   "source": [
    "total_errors = beginning_number - final_number\n",
    "\n",
    "file_outpath_FINAL = f\"Resources/TMDB_pull_FINAL_{year}_dropped_movies_{total_errors}.csv\"\n",
    "movie_info_pulled_df.to_csv(file_outpath_FINAL)\n",
    "movie_info_pulled_df.head(2)"
   ]
  },
  {
   "cell_type": "markdown",
   "metadata": {},
   "source": [
    "\n",
    "\n",
    "# Netflix\n",
    "## Create DataFrame and CSV of Netflix Titles"
   ]
  },
  {
   "cell_type": "code",
   "execution_count": 27,
   "metadata": {},
   "outputs": [
    {
     "name": "stdout",
     "output_type": "stream",
     "text": [
      "Index(['Title', 'Genre', 'Original Network', 'Premiere', 'Seasons', 'Length',\n",
      "       'Netflix Exclusive Regions', 'Status'],\n",
      "      dtype='object')\n"
     ]
    },
    {
     "data": {
      "text/html": [
       "<div>\n",
       "<style scoped>\n",
       "    .dataframe tbody tr th:only-of-type {\n",
       "        vertical-align: middle;\n",
       "    }\n",
       "\n",
       "    .dataframe tbody tr th {\n",
       "        vertical-align: top;\n",
       "    }\n",
       "\n",
       "    .dataframe thead th {\n",
       "        text-align: right;\n",
       "    }\n",
       "</style>\n",
       "<table border=\"1\" class=\"dataframe\">\n",
       "  <thead>\n",
       "    <tr style=\"text-align: right;\">\n",
       "      <th></th>\n",
       "      <th>Title</th>\n",
       "      <th>Genre</th>\n",
       "      <th>Original Network</th>\n",
       "      <th>Premiere</th>\n",
       "      <th>Seasons</th>\n",
       "      <th>Length</th>\n",
       "      <th>Netflix Exclusive Regions</th>\n",
       "      <th>Status</th>\n",
       "    </tr>\n",
       "  </thead>\n",
       "  <tbody>\n",
       "    <tr>\n",
       "      <th>0</th>\n",
       "      <td>House of Cards</td>\n",
       "      <td>Political drama</td>\n",
       "      <td>Netflix</td>\n",
       "      <td>February 1, 2013</td>\n",
       "      <td>6 seasons, 73 episodes</td>\n",
       "      <td>42–59 min.</td>\n",
       "      <td>Worldwide</td>\n",
       "      <td>Ended</td>\n",
       "    </tr>\n",
       "    <tr>\n",
       "      <th>1</th>\n",
       "      <td>Hemlock Grove</td>\n",
       "      <td>Horror</td>\n",
       "      <td>Netflix</td>\n",
       "      <td>April 19, 2013</td>\n",
       "      <td>3 seasons, 33 episodes</td>\n",
       "      <td>45–58 min.</td>\n",
       "      <td>Worldwide</td>\n",
       "      <td>Ended</td>\n",
       "    </tr>\n",
       "  </tbody>\n",
       "</table>\n",
       "</div>"
      ],
      "text/plain": [
       "            Title            Genre Original Network          Premiere  \\\n",
       "0  House of Cards  Political drama          Netflix  February 1, 2013   \n",
       "1   Hemlock Grove           Horror          Netflix    April 19, 2013   \n",
       "\n",
       "                  Seasons      Length Netflix Exclusive Regions Status  \n",
       "0  6 seasons, 73 episodes  42–59 min.                 Worldwide  Ended  \n",
       "1  3 seasons, 33 episodes  45–58 min.                 Worldwide  Ended  "
      ]
     },
     "execution_count": 27,
     "metadata": {},
     "output_type": "execute_result"
    }
   ],
   "source": [
    "# https://www.kaggle.com/abhimanyudasarwar/netflix-originals\n",
    "\n",
    "file_path = 'Resources/Data_from_web/netflix_originals.csv'\n",
    "\n",
    "netflix_titles_df = pd.read_csv(file_path)\n",
    "\n",
    "print(netflix_titles_df.columns)\n",
    "netflix_titles_df.head(2)"
   ]
  },
  {
   "cell_type": "code",
   "execution_count": 28,
   "metadata": {},
   "outputs": [
    {
     "name": "stdout",
     "output_type": "stream",
     "text": [
      "568\n"
     ]
    },
    {
     "data": {
      "text/html": [
       "<div>\n",
       "<style scoped>\n",
       "    .dataframe tbody tr th:only-of-type {\n",
       "        vertical-align: middle;\n",
       "    }\n",
       "\n",
       "    .dataframe tbody tr th {\n",
       "        vertical-align: top;\n",
       "    }\n",
       "\n",
       "    .dataframe thead th {\n",
       "        text-align: right;\n",
       "    }\n",
       "</style>\n",
       "<table border=\"1\" class=\"dataframe\">\n",
       "  <thead>\n",
       "    <tr style=\"text-align: right;\">\n",
       "      <th></th>\n",
       "      <th>index</th>\n",
       "      <th>Title</th>\n",
       "      <th>Genre</th>\n",
       "      <th>Premiere</th>\n",
       "      <th>Seasons</th>\n",
       "    </tr>\n",
       "  </thead>\n",
       "  <tbody>\n",
       "    <tr>\n",
       "      <th>0</th>\n",
       "      <td>497</td>\n",
       "      <td>Beasts of No Nation</td>\n",
       "      <td>War drama</td>\n",
       "      <td>October 16, 2015</td>\n",
       "      <td>NaN</td>\n",
       "    </tr>\n",
       "    <tr>\n",
       "      <th>1</th>\n",
       "      <td>498</td>\n",
       "      <td>The Ridiculous 6</td>\n",
       "      <td>Western</td>\n",
       "      <td>December 11, 2015</td>\n",
       "      <td>NaN</td>\n",
       "    </tr>\n",
       "  </tbody>\n",
       "</table>\n",
       "</div>"
      ],
      "text/plain": [
       "   index                Title      Genre           Premiere Seasons\n",
       "0    497  Beasts of No Nation  War drama   October 16, 2015     NaN\n",
       "1    498     The Ridiculous 6    Western  December 11, 2015     NaN"
      ]
     },
     "execution_count": 28,
     "metadata": {},
     "output_type": "execute_result"
    }
   ],
   "source": [
    "netflix_titles_clean = netflix_titles_df[['Title', 'Genre', 'Premiere', 'Seasons']]\n",
    "\n",
    "list_genre =('Making-of', 'Aftershow / Interview','Musical / Short')\n",
    "\n",
    "# remove 1 rouge string value in year\n",
    "netflix_titles_clean = netflix_titles_clean[netflix_titles_clean['Seasons'].isnull()]\n",
    "netflix_titles_clean = netflix_titles_clean[netflix_titles_clean['Genre'] != list_genre]\n",
    "netflix_titles_clean = netflix_titles_clean[~netflix_titles_clean['Premiere'].str.contains('2020', na=False)]\n",
    "netflix_fix_titles = netflix_titles_clean.reset_index()\n",
    "\n",
    "print(netflix_fix_titles.Title.count())\n",
    "netflix_fix_titles.head(2)"
   ]
  },
  {
   "cell_type": "code",
   "execution_count": 29,
   "metadata": {},
   "outputs": [
    {
     "name": "stdout",
     "output_type": "stream",
     "text": [
      "568\n"
     ]
    },
    {
     "data": {
      "text/html": [
       "<div>\n",
       "<style scoped>\n",
       "    .dataframe tbody tr th:only-of-type {\n",
       "        vertical-align: middle;\n",
       "    }\n",
       "\n",
       "    .dataframe tbody tr th {\n",
       "        vertical-align: top;\n",
       "    }\n",
       "\n",
       "    .dataframe thead th {\n",
       "        text-align: right;\n",
       "    }\n",
       "</style>\n",
       "<table border=\"1\" class=\"dataframe\">\n",
       "  <thead>\n",
       "    <tr style=\"text-align: right;\">\n",
       "      <th></th>\n",
       "      <th>index</th>\n",
       "      <th>Genre</th>\n",
       "      <th>Premiere</th>\n",
       "      <th>Seasons</th>\n",
       "      <th>Title</th>\n",
       "    </tr>\n",
       "  </thead>\n",
       "  <tbody>\n",
       "    <tr>\n",
       "      <th>0</th>\n",
       "      <td>497</td>\n",
       "      <td>War drama</td>\n",
       "      <td>October 16, 2015</td>\n",
       "      <td>NaN</td>\n",
       "      <td>Beasts of No Nation</td>\n",
       "    </tr>\n",
       "    <tr>\n",
       "      <th>1</th>\n",
       "      <td>498</td>\n",
       "      <td>Western</td>\n",
       "      <td>December 11, 2015</td>\n",
       "      <td>NaN</td>\n",
       "      <td>The Ridiculous 6</td>\n",
       "    </tr>\n",
       "  </tbody>\n",
       "</table>\n",
       "</div>"
      ],
      "text/plain": [
       "   index      Genre           Premiere Seasons                Title\n",
       "0    497  War drama   October 16, 2015     NaN  Beasts of No Nation\n",
       "1    498    Western  December 11, 2015     NaN     The Ridiculous 6"
      ]
     },
     "execution_count": 29,
     "metadata": {},
     "output_type": "execute_result"
    }
   ],
   "source": [
    "# variable cause starswith() wasn't happy with '#'\n",
    "pound_sign = '#'\n",
    "\n",
    "# make dataframe for pound sign = True (startswith() returns True/False)\n",
    "replace_pound_df = netflix_fix_titles.iloc[:, 0:2]\n",
    "replace_pound_df.Title = replace_pound_df.Title.str.startswith(pound_sign)\n",
    "\n",
    "# make df for ONLY the True values + primaryTitle from netflix_fix_titles\n",
    "pound_true_df = replace_pound_df.loc[replace_pound_df.Title == True]\n",
    "pound_true_df['TITLE'] = netflix_fix_titles['Title']\n",
    "\n",
    "# Fix titles to not have # in the front & clean up columns\n",
    "pound_true_df['TITLE'] = pound_true_df['TITLE'].str.replace(pound_sign, \"\")\n",
    "pound_true_clean_df = pound_true_df.drop(columns=['Title'])\n",
    "pound_true_clean_df = pound_true_clean_df.rename(columns={'TITLE': 'Title'})\n",
    "\n",
    "# Merge 2 dfs, replace blank primaryTitle_y values with na so you can do fillna into a \n",
    "# nice new clean has correct info column & delete primaryTitle_y/x\n",
    "titles_combined_df = pd.merge(netflix_fix_titles, pound_true_clean_df, how='outer', on='index')\n",
    "titles_combined_df['Title_y'] = titles_combined_df['Title_y'].str.replace(\" \", \"nan\")\n",
    "titles_combined_df[\"Title\"] = titles_combined_df[\"Title_y\"].fillna(titles_combined_df[\"Title_x\"])\n",
    "titles_fixed_df = titles_combined_df.drop(columns=['Title_y', 'Title_x'])\n",
    "\n",
    "print(titles_fixed_df.Title.count())\n",
    "titles_fixed_df.head(2)"
   ]
  },
  {
   "cell_type": "code",
   "execution_count": 30,
   "metadata": {},
   "outputs": [
    {
     "name": "stdout",
     "output_type": "stream",
     "text": [
      "\n",
      "THIS IS HOW MANY MOVIES: 568\n"
     ]
    },
    {
     "data": {
      "text/html": [
       "<div>\n",
       "<style scoped>\n",
       "    .dataframe tbody tr th:only-of-type {\n",
       "        vertical-align: middle;\n",
       "    }\n",
       "\n",
       "    .dataframe tbody tr th {\n",
       "        vertical-align: top;\n",
       "    }\n",
       "\n",
       "    .dataframe thead th {\n",
       "        text-align: right;\n",
       "    }\n",
       "</style>\n",
       "<table border=\"1\" class=\"dataframe\">\n",
       "  <thead>\n",
       "    <tr style=\"text-align: right;\">\n",
       "      <th></th>\n",
       "      <th>index</th>\n",
       "      <th>Genre</th>\n",
       "      <th>Premiere</th>\n",
       "      <th>Seasons</th>\n",
       "      <th>Title</th>\n",
       "    </tr>\n",
       "  </thead>\n",
       "  <tbody>\n",
       "    <tr>\n",
       "      <th>0</th>\n",
       "      <td>497</td>\n",
       "      <td>War drama</td>\n",
       "      <td>October 16, 2015</td>\n",
       "      <td>NaN</td>\n",
       "      <td>Beasts+of+No+Nation</td>\n",
       "    </tr>\n",
       "    <tr>\n",
       "      <th>1</th>\n",
       "      <td>498</td>\n",
       "      <td>Western</td>\n",
       "      <td>December 11, 2015</td>\n",
       "      <td>NaN</td>\n",
       "      <td>The+Ridiculous+6</td>\n",
       "    </tr>\n",
       "  </tbody>\n",
       "</table>\n",
       "</div>"
      ],
      "text/plain": [
       "   index      Genre           Premiere Seasons                Title\n",
       "0    497  War drama   October 16, 2015     NaN  Beasts+of+No+Nation\n",
       "1    498    Western  December 11, 2015     NaN     The+Ridiculous+6"
      ]
     },
     "execution_count": 30,
     "metadata": {},
     "output_type": "execute_result"
    }
   ],
   "source": [
    "beginning_number = titles_fixed_df['index'].count()\n",
    "\n",
    "titles_fixed_df['Title'] = titles_fixed_df['Title'].str.replace(\" \", \"+\")\n",
    "            \n",
    "print(f\"\\nTHIS IS HOW MANY MOVIES: {titles_fixed_df.Title.count()}\")\n",
    "titles_fixed_df.head(2)"
   ]
  },
  {
   "cell_type": "markdown",
   "metadata": {},
   "source": [
    "# OMDB"
   ]
  },
  {
   "cell_type": "code",
   "execution_count": 31,
   "metadata": {},
   "outputs": [],
   "source": [
    "# make URL\n",
    "url_omdb = \"http://www.omdbapi.com/?apikey=\"+ omdb_key + \"&t=\"\n",
    "\n",
    "#make OMDB dataframe\n",
    "OMDB_netflix_df = netflix_titles_clean.copy()\n",
    "OMDB_netflix_df['Metascore'] = ''\n",
    "OMDB_netflix_df['imdbRating'] = ''\n",
    "OMDB_netflix_df['imdbVotes'] = ''\n",
    "OMDB_netflix_df['Title_from_OMDB'] = ''\n",
    "OMDB_netflix_df['imdbID'] = ''\n",
    "\n",
    "\n",
    "error_count = 0\n",
    "\n",
    "for index, row in OMDB_netflix_df.iterrows():           \n",
    "    try:\n",
    "        movie_data = requests.get(url_omdb + str(OMDB_netflix_df.Title[index])).json()\n",
    "        try:\n",
    "            OMDB_netflix_df.loc[index, 'Metascore'] = movie_data['Metascore']\n",
    "            OMDB_netflix_df.loc[index, 'imdbRating'] = movie_data['imdbRating']\n",
    "            OMDB_netflix_df.loc[index, 'imdbVotes'] = movie_data['imdbVotes']\n",
    "            OMDB_netflix_df.loc[index, 'Title_from_OMDB'] = movie_data['Title']\n",
    "            OMDB_netflix_df.loc[index, 'imdbID'] = movie_data['imdbID']\n",
    "        except (IndexError, KeyError, ValueError):\n",
    "            error_count +=1\n",
    "    # Added for OMDB errors when their system returns JSONDecodeError\n",
    "    except(ValueError, TypeError):\n",
    "        error_count +=1    "
   ]
  },
  {
   "cell_type": "markdown",
   "metadata": {},
   "source": [
    "### Save data as CSV"
   ]
  },
  {
   "cell_type": "code",
   "execution_count": 32,
   "metadata": {},
   "outputs": [
    {
     "data": {
      "text/html": [
       "<div>\n",
       "<style scoped>\n",
       "    .dataframe tbody tr th:only-of-type {\n",
       "        vertical-align: middle;\n",
       "    }\n",
       "\n",
       "    .dataframe tbody tr th {\n",
       "        vertical-align: top;\n",
       "    }\n",
       "\n",
       "    .dataframe thead th {\n",
       "        text-align: right;\n",
       "    }\n",
       "</style>\n",
       "<table border=\"1\" class=\"dataframe\">\n",
       "  <thead>\n",
       "    <tr style=\"text-align: right;\">\n",
       "      <th></th>\n",
       "      <th>Title</th>\n",
       "      <th>Genre</th>\n",
       "      <th>Premiere</th>\n",
       "      <th>Seasons</th>\n",
       "      <th>Metascore</th>\n",
       "      <th>imdbRating</th>\n",
       "      <th>imdbVotes</th>\n",
       "      <th>Title_from_OMDB</th>\n",
       "      <th>imdbID</th>\n",
       "    </tr>\n",
       "  </thead>\n",
       "  <tbody>\n",
       "    <tr>\n",
       "      <th>497</th>\n",
       "      <td>Beasts of No Nation</td>\n",
       "      <td>War drama</td>\n",
       "      <td>October 16, 2015</td>\n",
       "      <td>NaN</td>\n",
       "      <td>79</td>\n",
       "      <td>7.7</td>\n",
       "      <td>71,861</td>\n",
       "      <td>Beasts of No Nation</td>\n",
       "      <td>tt1365050</td>\n",
       "    </tr>\n",
       "    <tr>\n",
       "      <th>498</th>\n",
       "      <td>The Ridiculous 6</td>\n",
       "      <td>Western</td>\n",
       "      <td>December 11, 2015</td>\n",
       "      <td>NaN</td>\n",
       "      <td>18</td>\n",
       "      <td>4.8</td>\n",
       "      <td>43,592</td>\n",
       "      <td>The Ridiculous 6</td>\n",
       "      <td>tt2479478</td>\n",
       "    </tr>\n",
       "  </tbody>\n",
       "</table>\n",
       "</div>"
      ],
      "text/plain": [
       "                   Title      Genre           Premiere Seasons Metascore  \\\n",
       "497  Beasts of No Nation  War drama   October 16, 2015     NaN        79   \n",
       "498     The Ridiculous 6    Western  December 11, 2015     NaN        18   \n",
       "\n",
       "    imdbRating imdbVotes      Title_from_OMDB     imdbID  \n",
       "497        7.7    71,861  Beasts of No Nation  tt1365050  \n",
       "498        4.8    43,592     The Ridiculous 6  tt2479478  "
      ]
     },
     "execution_count": 32,
     "metadata": {},
     "output_type": "execute_result"
    }
   ],
   "source": [
    "file_outpath = f\"Resources/OMDB_pull_Netflix_error_count{error_count}.csv\"\n",
    "\n",
    "OMDB_netflix_df.to_csv(file_outpath)\n",
    "OMDB_netflix_df.head(2)"
   ]
  },
  {
   "cell_type": "markdown",
   "metadata": {},
   "source": [
    "# TMDB\n",
    "### Pulling in data & preparing data for pull"
   ]
  },
  {
   "cell_type": "code",
   "execution_count": 33,
   "metadata": {},
   "outputs": [],
   "source": [
    "# Make movie titles into a list so you can run it in TMDB pull 1\n",
    "movies = titles_fixed_df['Title'].tolist()"
   ]
  },
  {
   "cell_type": "markdown",
   "metadata": {},
   "source": [
    "### TMDB pull 1 for TMDB IDs"
   ]
  },
  {
   "cell_type": "code",
   "execution_count": 34,
   "metadata": {},
   "outputs": [],
   "source": [
    "imdb_id_url =  \"https://api.themoviedb.org/3/movie/\"\n",
    "\n",
    "response_tmdb_id = []\n",
    "\n",
    "error_count_TMDB = 0\n",
    "\n",
    "for index, row in OMDB_netflix_df.iterrows():  \n",
    "    movie_data = requests.get(imdb_id_url + OMDB_netflix_df.imdbID[index] + \"/external_ids?api_key=\" + tmdb_key).json()\n",
    "    try:\n",
    "        response_tmdb_id.append(movie_data['id']) \n",
    "    except:\n",
    "        error_count_TMDB += 1    "
   ]
  },
  {
   "cell_type": "markdown",
   "metadata": {},
   "source": [
    "#### Save results as a CSV"
   ]
  },
  {
   "cell_type": "code",
   "execution_count": 35,
   "metadata": {},
   "outputs": [
    {
     "data": {
      "text/html": [
       "<div>\n",
       "<style scoped>\n",
       "    .dataframe tbody tr th:only-of-type {\n",
       "        vertical-align: middle;\n",
       "    }\n",
       "\n",
       "    .dataframe tbody tr th {\n",
       "        vertical-align: top;\n",
       "    }\n",
       "\n",
       "    .dataframe thead th {\n",
       "        text-align: right;\n",
       "    }\n",
       "</style>\n",
       "<table border=\"1\" class=\"dataframe\">\n",
       "  <thead>\n",
       "    <tr style=\"text-align: right;\">\n",
       "      <th></th>\n",
       "      <th>ID</th>\n",
       "    </tr>\n",
       "  </thead>\n",
       "  <tbody>\n",
       "    <tr>\n",
       "      <th>0</th>\n",
       "      <td>283587</td>\n",
       "    </tr>\n",
       "    <tr>\n",
       "      <th>1</th>\n",
       "      <td>347969</td>\n",
       "    </tr>\n",
       "  </tbody>\n",
       "</table>\n",
       "</div>"
      ],
      "text/plain": [
       "       ID\n",
       "0  283587\n",
       "1  347969"
      ]
     },
     "execution_count": 35,
     "metadata": {},
     "output_type": "execute_result"
    }
   ],
   "source": [
    "file_outpath = f\"Resources/TMDB_pull_1_Netflix_error_count{error_count_TMDB}.csv\"\n",
    "\n",
    "TMDB_neflix_1_df = pd.DataFrame(response_tmdb_id,columns=['ID'],dtype=object)\n",
    "TMDB_neflix_1_df.to_csv(file_outpath)\n",
    "TMDB_neflix_1_df.head(2)"
   ]
  },
  {
   "cell_type": "markdown",
   "metadata": {},
   "source": [
    "### TMDB pull 2 for movie information"
   ]
  },
  {
   "cell_type": "code",
   "execution_count": 36,
   "metadata": {},
   "outputs": [
    {
     "data": {
      "text/html": [
       "<div>\n",
       "<style scoped>\n",
       "    .dataframe tbody tr th:only-of-type {\n",
       "        vertical-align: middle;\n",
       "    }\n",
       "\n",
       "    .dataframe tbody tr th {\n",
       "        vertical-align: top;\n",
       "    }\n",
       "\n",
       "    .dataframe thead th {\n",
       "        text-align: right;\n",
       "    }\n",
       "</style>\n",
       "<table border=\"1\" class=\"dataframe\">\n",
       "  <thead>\n",
       "    <tr style=\"text-align: right;\">\n",
       "      <th></th>\n",
       "      <th>ID</th>\n",
       "      <th>imdb_id</th>\n",
       "      <th>release_date</th>\n",
       "      <th>budget</th>\n",
       "      <th>revenue</th>\n",
       "      <th>genres</th>\n",
       "      <th>original_language</th>\n",
       "      <th>original_title</th>\n",
       "      <th>origin_country</th>\n",
       "      <th>production_countries name</th>\n",
       "      <th>spoken_languages name</th>\n",
       "    </tr>\n",
       "  </thead>\n",
       "  <tbody>\n",
       "    <tr>\n",
       "      <th>0</th>\n",
       "      <td>283587</td>\n",
       "      <td></td>\n",
       "      <td></td>\n",
       "      <td></td>\n",
       "      <td></td>\n",
       "      <td></td>\n",
       "      <td></td>\n",
       "      <td></td>\n",
       "      <td></td>\n",
       "      <td></td>\n",
       "      <td></td>\n",
       "    </tr>\n",
       "    <tr>\n",
       "      <th>1</th>\n",
       "      <td>347969</td>\n",
       "      <td></td>\n",
       "      <td></td>\n",
       "      <td></td>\n",
       "      <td></td>\n",
       "      <td></td>\n",
       "      <td></td>\n",
       "      <td></td>\n",
       "      <td></td>\n",
       "      <td></td>\n",
       "      <td></td>\n",
       "    </tr>\n",
       "  </tbody>\n",
       "</table>\n",
       "</div>"
      ],
      "text/plain": [
       "       ID imdb_id release_date budget revenue genres original_language  \\\n",
       "0  283587                                                                \n",
       "1  347969                                                                \n",
       "\n",
       "  original_title origin_country production_countries name  \\\n",
       "0                                                           \n",
       "1                                                           \n",
       "\n",
       "  spoken_languages name  \n",
       "0                        \n",
       "1                        "
      ]
     },
     "execution_count": 36,
     "metadata": {},
     "output_type": "execute_result"
    }
   ],
   "source": [
    "#Make TMDB dataframe\n",
    "TMDB_netflix_2_df = TMDB_neflix_1_df.copy()\n",
    "\n",
    "url_tmdb_movie = \"https://api.themoviedb.org/3/movie/\"\n",
    "\n",
    "# Make columns to import info into\n",
    "TMDB_netflix_2_df['imdb_id'] = \" \"\n",
    "TMDB_netflix_2_df['release_date'] = \" \"\n",
    "TMDB_netflix_2_df['budget'] = \" \"\n",
    "TMDB_netflix_2_df['revenue'] = \" \"\n",
    "TMDB_netflix_2_df['genres'] = \" \"\n",
    "TMDB_netflix_2_df['original_language'] = \" \"\n",
    "TMDB_netflix_2_df['original_title'] = \" \"\n",
    "TMDB_netflix_2_df['origin_country'] = \" \"\n",
    "TMDB_netflix_2_df['production_countries name'] = \" \"\n",
    "TMDB_netflix_2_df['spoken_languages name'] = \" \"\n",
    "\n",
    "TMDB_netflix_2_df.head(2)"
   ]
  },
  {
   "cell_type": "code",
   "execution_count": 39,
   "metadata": {},
   "outputs": [],
   "source": [
    "error_count_info = 0\n",
    "\n",
    "for index, row in TMDB_neflix_1_df.iterrows(): \n",
    "    movie_data = requests.get(url_tmdb_movie + str(TMDB_neflix_1_df.ID[index]) + \"?api_key=\" + tmdb_key).json()\n",
    "    try:\n",
    "        TMDB_netflix_2_df.loc[index, 'imdb_id'] = movie_data['imdb_id']\n",
    "        TMDB_netflix_2_df.loc[index, 'release_date'] = movie_data['release_date']\n",
    "        TMDB_netflix_2_df.loc[index, 'budget'] = movie_data['budget']\n",
    "        TMDB_netflix_2_df.loc[index, 'revenue'] = movie_data['revenue']\n",
    "        TMDB_netflix_2_df.loc[index, 'original_language'] = movie_data['spoken_languages'][0]['name']\n",
    "        TMDB_netflix_2_df.loc[index, 'original_title'] = movie_data['original_title']\n",
    "        TMDB_netflix_2_df.loc[index, 'origin_country'] = movie_data['production_countries'][0]['iso_3166_1']\n",
    "        TMDB_netflix_2_df.loc[index, 'production_countries name'] = movie_data['production_countries'][0]['name']\n",
    "        TMDB_netflix_2_df.loc[index, 'spoken_languages name'] = movie_data['spoken_languages'][0]['name']\n",
    "        TMDB_netflix_2_df.loc[index, 'genres'] = movie_data['genres'][0]['name']    \n",
    "    except (ValueError, IndexError):\n",
    "        error_count_info +=1"
   ]
  },
  {
   "cell_type": "markdown",
   "metadata": {},
   "source": [
    "#### Save results as a CSV"
   ]
  },
  {
   "cell_type": "code",
   "execution_count": 40,
   "metadata": {},
   "outputs": [
    {
     "data": {
      "text/html": [
       "<div>\n",
       "<style scoped>\n",
       "    .dataframe tbody tr th:only-of-type {\n",
       "        vertical-align: middle;\n",
       "    }\n",
       "\n",
       "    .dataframe tbody tr th {\n",
       "        vertical-align: top;\n",
       "    }\n",
       "\n",
       "    .dataframe thead th {\n",
       "        text-align: right;\n",
       "    }\n",
       "</style>\n",
       "<table border=\"1\" class=\"dataframe\">\n",
       "  <thead>\n",
       "    <tr style=\"text-align: right;\">\n",
       "      <th></th>\n",
       "      <th>ID</th>\n",
       "      <th>imdb_id</th>\n",
       "      <th>release_date</th>\n",
       "      <th>budget</th>\n",
       "      <th>revenue</th>\n",
       "      <th>genres</th>\n",
       "      <th>original_language</th>\n",
       "      <th>original_title</th>\n",
       "      <th>origin_country</th>\n",
       "      <th>production_countries name</th>\n",
       "      <th>spoken_languages name</th>\n",
       "    </tr>\n",
       "  </thead>\n",
       "  <tbody>\n",
       "    <tr>\n",
       "      <th>0</th>\n",
       "      <td>283587</td>\n",
       "      <td>tt1365050</td>\n",
       "      <td>2015-09-11</td>\n",
       "      <td>6000000</td>\n",
       "      <td>9077700</td>\n",
       "      <td>Drama</td>\n",
       "      <td>English</td>\n",
       "      <td>Beasts of No Nation</td>\n",
       "      <td>GH</td>\n",
       "      <td>Ghana</td>\n",
       "      <td>English</td>\n",
       "    </tr>\n",
       "    <tr>\n",
       "      <th>1</th>\n",
       "      <td>347969</td>\n",
       "      <td>tt2479478</td>\n",
       "      <td>2015-12-11</td>\n",
       "      <td>60000000</td>\n",
       "      <td>0</td>\n",
       "      <td>Comedy</td>\n",
       "      <td>English</td>\n",
       "      <td>The Ridiculous 6</td>\n",
       "      <td>US</td>\n",
       "      <td>United States of America</td>\n",
       "      <td>English</td>\n",
       "    </tr>\n",
       "  </tbody>\n",
       "</table>\n",
       "</div>"
      ],
      "text/plain": [
       "       ID    imdb_id release_date    budget  revenue  genres  \\\n",
       "0  283587  tt1365050   2015-09-11   6000000  9077700   Drama   \n",
       "1  347969  tt2479478   2015-12-11  60000000        0  Comedy   \n",
       "\n",
       "  original_language       original_title origin_country  \\\n",
       "0           English  Beasts of No Nation             GH   \n",
       "1           English     The Ridiculous 6             US   \n",
       "\n",
       "  production_countries name spoken_languages name  \n",
       "0                     Ghana               English  \n",
       "1  United States of America               English  "
      ]
     },
     "execution_count": 40,
     "metadata": {},
     "output_type": "execute_result"
    }
   ],
   "source": [
    "file_outpath_2 = f\"Resources/TMDB_pull_2_Netflix_error_count{error_count_info}.csv\"\n",
    "\n",
    "TMDB_netflix_2_df.to_csv(file_outpath_2)\n",
    "TMDB_netflix_2_df.head(2)"
   ]
  },
  {
   "cell_type": "markdown",
   "metadata": {},
   "source": [
    "### CLEANING if budget = 0, revenue = 0, IMDB_id not found\n",
    "* This is to help keep the file size down by dropping rows we cannot use or cannot match up"
   ]
  },
  {
   "cell_type": "code",
   "execution_count": 41,
   "metadata": {},
   "outputs": [],
   "source": [
    "neflix_info_pulled_df = TMDB_netflix_2_df.copy()\n",
    "neflix_info_pulled_df.head(2)\n",
    "\n",
    "neflix_info_pulled_df = neflix_info_pulled_df[neflix_info_pulled_df.budget != 0]\n",
    "neflix_info_pulled_df = neflix_info_pulled_df[neflix_info_pulled_df.revenue != 0]\n",
    "neflix_info_pulled_df = neflix_info_pulled_df.dropna(subset=['imdb_id'])\n",
    "\n",
    "final_number = movie_info_pulled_df.imdb_id.count()"
   ]
  },
  {
   "cell_type": "markdown",
   "metadata": {},
   "source": [
    "#### Save results as a CSV"
   ]
  },
  {
   "cell_type": "code",
   "execution_count": 42,
   "metadata": {},
   "outputs": [
    {
     "data": {
      "text/html": [
       "<div>\n",
       "<style scoped>\n",
       "    .dataframe tbody tr th:only-of-type {\n",
       "        vertical-align: middle;\n",
       "    }\n",
       "\n",
       "    .dataframe tbody tr th {\n",
       "        vertical-align: top;\n",
       "    }\n",
       "\n",
       "    .dataframe thead th {\n",
       "        text-align: right;\n",
       "    }\n",
       "</style>\n",
       "<table border=\"1\" class=\"dataframe\">\n",
       "  <thead>\n",
       "    <tr style=\"text-align: right;\">\n",
       "      <th></th>\n",
       "      <th>ID</th>\n",
       "      <th>imdb_id</th>\n",
       "      <th>release_date</th>\n",
       "      <th>budget</th>\n",
       "      <th>revenue</th>\n",
       "      <th>genres</th>\n",
       "      <th>original_language</th>\n",
       "      <th>original_title</th>\n",
       "      <th>origin_country</th>\n",
       "      <th>production_countries name</th>\n",
       "      <th>spoken_languages name</th>\n",
       "    </tr>\n",
       "  </thead>\n",
       "  <tbody>\n",
       "    <tr>\n",
       "      <th>0</th>\n",
       "      <td>283587</td>\n",
       "      <td>tt1365050</td>\n",
       "      <td>2015-09-11</td>\n",
       "      <td>6000000</td>\n",
       "      <td>9077700</td>\n",
       "      <td>Drama</td>\n",
       "      <td>English</td>\n",
       "      <td>Beasts of No Nation</td>\n",
       "      <td>GH</td>\n",
       "      <td>Ghana</td>\n",
       "      <td>English</td>\n",
       "    </tr>\n",
       "    <tr>\n",
       "      <th>119</th>\n",
       "      <td>426426</td>\n",
       "      <td>tt6155172</td>\n",
       "      <td>2018-08-25</td>\n",
       "      <td>15000000</td>\n",
       "      <td>1140769</td>\n",
       "      <td>Drama</td>\n",
       "      <td>English</td>\n",
       "      <td>Roma</td>\n",
       "      <td>US</td>\n",
       "      <td>United States of America</td>\n",
       "      <td>English</td>\n",
       "    </tr>\n",
       "  </tbody>\n",
       "</table>\n",
       "</div>"
      ],
      "text/plain": [
       "         ID    imdb_id release_date    budget  revenue genres  \\\n",
       "0    283587  tt1365050   2015-09-11   6000000  9077700  Drama   \n",
       "119  426426  tt6155172   2018-08-25  15000000  1140769  Drama   \n",
       "\n",
       "    original_language       original_title origin_country  \\\n",
       "0             English  Beasts of No Nation             GH   \n",
       "119           English                 Roma             US   \n",
       "\n",
       "    production_countries name spoken_languages name  \n",
       "0                       Ghana               English  \n",
       "119  United States of America               English  "
      ]
     },
     "execution_count": 42,
     "metadata": {},
     "output_type": "execute_result"
    }
   ],
   "source": [
    "total_errors = beginning_number - final_number\n",
    "\n",
    "file_outpath_FINAL = f\"Resources/TMDB_pull_FINAL_Netflix_dropped_movies_{total_errors}.csv\"\n",
    "neflix_info_pulled_df.to_csv(file_outpath_FINAL)\n",
    "neflix_info_pulled_df.head(2)"
   ]
  },
  {
   "cell_type": "markdown",
   "metadata": {},
   "source": [
    "# Cleaning Pulled Data"
   ]
  },
  {
   "cell_type": "code",
   "execution_count": 116,
   "metadata": {},
   "outputs": [],
   "source": [
    "# import files\n",
    "movies_2015 = pd.read_csv(\"Resources/2015_pull/TMDB_pull_FINAL_2015_dropped_movies_15964.csv\")\n",
    "movies_2016 = pd.read_csv(\"Resources/2016_pull/TMDB_pull_FINAL_2016_dropped_movies_16969.csv\")\n",
    "movies_2017 = pd.read_csv(\"Resources/2017_pull/TMDB_pull_FINAL_2017_dropped_movies_17367.csv\")\n",
    "movies_2018 = pd.read_csv(\"Resources/2018_pull/TMDB_pull_FINAL_2018_dropped_movies_17079.csv\")\n",
    "movies_2019 = pd.read_csv(\"Resources/2019_pull/TMDB_pull_FINAL_2019_dropped_movies_16258.csv\")"
   ]
  },
  {
   "cell_type": "markdown",
   "metadata": {},
   "source": [
    "### Clean Years"
   ]
  },
  {
   "cell_type": "markdown",
   "metadata": {},
   "source": [
    "#### 2015"
   ]
  },
  {
   "cell_type": "code",
   "execution_count": 117,
   "metadata": {},
   "outputs": [
    {
     "data": {
      "text/html": [
       "<div>\n",
       "<style scoped>\n",
       "    .dataframe tbody tr th:only-of-type {\n",
       "        vertical-align: middle;\n",
       "    }\n",
       "\n",
       "    .dataframe tbody tr th {\n",
       "        vertical-align: top;\n",
       "    }\n",
       "\n",
       "    .dataframe thead th {\n",
       "        text-align: right;\n",
       "    }\n",
       "</style>\n",
       "<table border=\"1\" class=\"dataframe\">\n",
       "  <thead>\n",
       "    <tr style=\"text-align: right;\">\n",
       "      <th></th>\n",
       "      <th>imdb_id</th>\n",
       "      <th>release_date</th>\n",
       "      <th>budget</th>\n",
       "      <th>revenue</th>\n",
       "      <th>genres</th>\n",
       "      <th>original_language</th>\n",
       "      <th>origin_country</th>\n",
       "      <th>production_countries name</th>\n",
       "      <th>spoken_languages name</th>\n",
       "    </tr>\n",
       "  </thead>\n",
       "  <tbody>\n",
       "    <tr>\n",
       "      <th>0</th>\n",
       "      <td>tt0810819</td>\n",
       "      <td>2015-01-01</td>\n",
       "      <td>15000000</td>\n",
       "      <td>64191523</td>\n",
       "      <td>Drama</td>\n",
       "      <td>Français</td>\n",
       "      <td>DE</td>\n",
       "      <td>Germany</td>\n",
       "      <td>Français</td>\n",
       "    </tr>\n",
       "    <tr>\n",
       "      <th>1</th>\n",
       "      <td>tt0884732</td>\n",
       "      <td>2015-01-16</td>\n",
       "      <td>23000000</td>\n",
       "      <td>79799880</td>\n",
       "      <td>Comedy</td>\n",
       "      <td>English</td>\n",
       "      <td>US</td>\n",
       "      <td>United States of America</td>\n",
       "      <td>English</td>\n",
       "    </tr>\n",
       "  </tbody>\n",
       "</table>\n",
       "</div>"
      ],
      "text/plain": [
       "     imdb_id release_date    budget   revenue  genres original_language  \\\n",
       "0  tt0810819   2015-01-01  15000000  64191523   Drama          Français   \n",
       "1  tt0884732   2015-01-16  23000000  79799880  Comedy           English   \n",
       "\n",
       "  origin_country production_countries name spoken_languages name  \n",
       "0             DE                   Germany              Français  \n",
       "1             US  United States of America               English  "
      ]
     },
     "execution_count": 117,
     "metadata": {},
     "output_type": "execute_result"
    }
   ],
   "source": [
    "def clean_year(file):\n",
    "    del file[\"Unnamed: 0\"]\n",
    "    del file[\"ID\"]\n",
    "    del file[\"original_title\"]\n",
    "    return file\n",
    "\n",
    "def profit(file):\n",
    "    file[\"Profit%\"] = round((file['revenue']-file['budget'])/file['budget']*100,2)\n",
    "    \n",
    "clean_year(movies_2015).head(2)"
   ]
  },
  {
   "cell_type": "code",
   "execution_count": 118,
   "metadata": {},
   "outputs": [
    {
     "data": {
      "text/html": [
       "<div>\n",
       "<style scoped>\n",
       "    .dataframe tbody tr th:only-of-type {\n",
       "        vertical-align: middle;\n",
       "    }\n",
       "\n",
       "    .dataframe tbody tr th {\n",
       "        vertical-align: top;\n",
       "    }\n",
       "\n",
       "    .dataframe thead th {\n",
       "        text-align: right;\n",
       "    }\n",
       "</style>\n",
       "<table border=\"1\" class=\"dataframe\">\n",
       "  <thead>\n",
       "    <tr style=\"text-align: right;\">\n",
       "      <th></th>\n",
       "      <th>tconst</th>\n",
       "      <th>release_date</th>\n",
       "      <th>budget</th>\n",
       "      <th>revenue</th>\n",
       "      <th>genres</th>\n",
       "      <th>original_language</th>\n",
       "      <th>origin_country</th>\n",
       "      <th>production_countries name</th>\n",
       "      <th>spoken_languages name</th>\n",
       "      <th>Profit%</th>\n",
       "    </tr>\n",
       "  </thead>\n",
       "  <tbody>\n",
       "    <tr>\n",
       "      <th>0</th>\n",
       "      <td>tt0810819</td>\n",
       "      <td>2015-01-01</td>\n",
       "      <td>15000000</td>\n",
       "      <td>64191523</td>\n",
       "      <td>Drama</td>\n",
       "      <td>Français</td>\n",
       "      <td>DE</td>\n",
       "      <td>Germany</td>\n",
       "      <td>Français</td>\n",
       "      <td>327.94</td>\n",
       "    </tr>\n",
       "    <tr>\n",
       "      <th>1</th>\n",
       "      <td>tt0884732</td>\n",
       "      <td>2015-01-16</td>\n",
       "      <td>23000000</td>\n",
       "      <td>79799880</td>\n",
       "      <td>Comedy</td>\n",
       "      <td>English</td>\n",
       "      <td>US</td>\n",
       "      <td>United States of America</td>\n",
       "      <td>English</td>\n",
       "      <td>246.96</td>\n",
       "    </tr>\n",
       "  </tbody>\n",
       "</table>\n",
       "</div>"
      ],
      "text/plain": [
       "      tconst release_date    budget   revenue  genres original_language  \\\n",
       "0  tt0810819   2015-01-01  15000000  64191523   Drama          Français   \n",
       "1  tt0884732   2015-01-16  23000000  79799880  Comedy           English   \n",
       "\n",
       "  origin_country production_countries name spoken_languages name  Profit%  \n",
       "0             DE                   Germany              Français   327.94  \n",
       "1             US  United States of America               English   246.96  "
      ]
     },
     "execution_count": 118,
     "metadata": {},
     "output_type": "execute_result"
    }
   ],
   "source": [
    "movies_2015.reset_index().head()\n",
    "movies_2015 = movies_2015.drop(index=123)\n",
    "movies_2015 = movies_2015.rename(columns={'imdb_id':'tconst'})\n",
    "movies_2015['budget'] = pd.to_numeric(movies_2015['budget'])\n",
    "movies_2015['revenue'] = pd.to_numeric(movies_2015['revenue'])\n",
    "profit(movies_2015)\n",
    "movies_2015.head(2)"
   ]
  },
  {
   "cell_type": "markdown",
   "metadata": {},
   "source": [
    "#### 2016"
   ]
  },
  {
   "cell_type": "code",
   "execution_count": 119,
   "metadata": {},
   "outputs": [
    {
     "data": {
      "text/html": [
       "<div>\n",
       "<style scoped>\n",
       "    .dataframe tbody tr th:only-of-type {\n",
       "        vertical-align: middle;\n",
       "    }\n",
       "\n",
       "    .dataframe tbody tr th {\n",
       "        vertical-align: top;\n",
       "    }\n",
       "\n",
       "    .dataframe thead th {\n",
       "        text-align: right;\n",
       "    }\n",
       "</style>\n",
       "<table border=\"1\" class=\"dataframe\">\n",
       "  <thead>\n",
       "    <tr style=\"text-align: right;\">\n",
       "      <th></th>\n",
       "      <th>tconst</th>\n",
       "      <th>release_date</th>\n",
       "      <th>budget</th>\n",
       "      <th>revenue</th>\n",
       "      <th>genres</th>\n",
       "      <th>original_language</th>\n",
       "      <th>origin_country</th>\n",
       "      <th>production_countries name</th>\n",
       "      <th>spoken_languages name</th>\n",
       "      <th>Profit%</th>\n",
       "    </tr>\n",
       "  </thead>\n",
       "  <tbody>\n",
       "    <tr>\n",
       "      <th>0</th>\n",
       "      <td>tt1002563</td>\n",
       "      <td>2016-03-10</td>\n",
       "      <td>18500000</td>\n",
       "      <td>6490401</td>\n",
       "      <td>Drama</td>\n",
       "      <td>English</td>\n",
       "      <td>US</td>\n",
       "      <td>United States of America</td>\n",
       "      <td>English</td>\n",
       "      <td>-64.92</td>\n",
       "    </tr>\n",
       "    <tr>\n",
       "      <th>1</th>\n",
       "      <td>tt0096320</td>\n",
       "      <td>1988-12-09</td>\n",
       "      <td>15000000</td>\n",
       "      <td>216614388</td>\n",
       "      <td>Comedy</td>\n",
       "      <td>English</td>\n",
       "      <td>US</td>\n",
       "      <td>United States of America</td>\n",
       "      <td>English</td>\n",
       "      <td>1344.10</td>\n",
       "    </tr>\n",
       "  </tbody>\n",
       "</table>\n",
       "</div>"
      ],
      "text/plain": [
       "      tconst release_date    budget    revenue  genres original_language  \\\n",
       "0  tt1002563   2016-03-10  18500000    6490401   Drama           English   \n",
       "1  tt0096320   1988-12-09  15000000  216614388  Comedy           English   \n",
       "\n",
       "  origin_country production_countries name spoken_languages name  Profit%  \n",
       "0             US  United States of America               English   -64.92  \n",
       "1             US  United States of America               English  1344.10  "
      ]
     },
     "execution_count": 119,
     "metadata": {},
     "output_type": "execute_result"
    }
   ],
   "source": [
    "clean_year(movies_2016)\n",
    "movies_2016.reset_index().head()\n",
    "movies_2016 = movies_2016.drop(index=158)\n",
    "movies_2016 = movies_2016.rename(columns={'imdb_id':'tconst'})\n",
    "movies_2016['budget'] = pd.to_numeric(movies_2016['budget'])\n",
    "movies_2016['revenue'] = pd.to_numeric(movies_2016['revenue'])\n",
    "profit(movies_2016)\n",
    "movies_2016.head(2)"
   ]
  },
  {
   "cell_type": "markdown",
   "metadata": {},
   "source": [
    "#### 2017"
   ]
  },
  {
   "cell_type": "code",
   "execution_count": 120,
   "metadata": {},
   "outputs": [
    {
     "data": {
      "text/html": [
       "<div>\n",
       "<style scoped>\n",
       "    .dataframe tbody tr th:only-of-type {\n",
       "        vertical-align: middle;\n",
       "    }\n",
       "\n",
       "    .dataframe tbody tr th {\n",
       "        vertical-align: top;\n",
       "    }\n",
       "\n",
       "    .dataframe thead th {\n",
       "        text-align: right;\n",
       "    }\n",
       "</style>\n",
       "<table border=\"1\" class=\"dataframe\">\n",
       "  <thead>\n",
       "    <tr style=\"text-align: right;\">\n",
       "      <th></th>\n",
       "      <th>tconst</th>\n",
       "      <th>release_date</th>\n",
       "      <th>budget</th>\n",
       "      <th>revenue</th>\n",
       "      <th>genres</th>\n",
       "      <th>original_language</th>\n",
       "      <th>origin_country</th>\n",
       "      <th>production_countries name</th>\n",
       "      <th>spoken_languages name</th>\n",
       "      <th>Profit%</th>\n",
       "    </tr>\n",
       "  </thead>\n",
       "  <tbody>\n",
       "    <tr>\n",
       "      <th>0</th>\n",
       "      <td>tt0491175</td>\n",
       "      <td>2017-10-26</td>\n",
       "      <td>25000000</td>\n",
       "      <td>5775178</td>\n",
       "      <td>Thriller</td>\n",
       "      <td>English</td>\n",
       "      <td>GB</td>\n",
       "      <td>United Kingdom</td>\n",
       "      <td>English</td>\n",
       "      <td>-76.9</td>\n",
       "    </tr>\n",
       "    <tr>\n",
       "      <th>1</th>\n",
       "      <td>tt0491203</td>\n",
       "      <td>2017-07-13</td>\n",
       "      <td>25000000</td>\n",
       "      <td>3425664</td>\n",
       "      <td>Drama</td>\n",
       "      <td>English</td>\n",
       "      <td>GB</td>\n",
       "      <td>United Kingdom</td>\n",
       "      <td>English</td>\n",
       "      <td>-86.3</td>\n",
       "    </tr>\n",
       "  </tbody>\n",
       "</table>\n",
       "</div>"
      ],
      "text/plain": [
       "      tconst release_date    budget  revenue    genres original_language  \\\n",
       "0  tt0491175   2017-10-26  25000000  5775178  Thriller           English   \n",
       "1  tt0491203   2017-07-13  25000000  3425664     Drama           English   \n",
       "\n",
       "  origin_country production_countries name spoken_languages name  Profit%  \n",
       "0             GB            United Kingdom               English    -76.9  \n",
       "1             GB            United Kingdom               English    -86.3  "
      ]
     },
     "execution_count": 120,
     "metadata": {},
     "output_type": "execute_result"
    }
   ],
   "source": [
    "clean_year(movies_2017)\n",
    "movies_2017.reset_index().head()\n",
    "movies_2017 = movies_2017.rename(columns={'imdb_id':'tconst'})\n",
    "movies_2017['budget'] = pd.to_numeric(movies_2017['budget'])\n",
    "movies_2017['revenue'] = pd.to_numeric(movies_2017['revenue'])\n",
    "profit(movies_2017)\n",
    "movies_2017.head(2)"
   ]
  },
  {
   "cell_type": "markdown",
   "metadata": {},
   "source": [
    "#### 2018"
   ]
  },
  {
   "cell_type": "code",
   "execution_count": 121,
   "metadata": {},
   "outputs": [
    {
     "data": {
      "text/html": [
       "<div>\n",
       "<style scoped>\n",
       "    .dataframe tbody tr th:only-of-type {\n",
       "        vertical-align: middle;\n",
       "    }\n",
       "\n",
       "    .dataframe tbody tr th {\n",
       "        vertical-align: top;\n",
       "    }\n",
       "\n",
       "    .dataframe thead th {\n",
       "        text-align: right;\n",
       "    }\n",
       "</style>\n",
       "<table border=\"1\" class=\"dataframe\">\n",
       "  <thead>\n",
       "    <tr style=\"text-align: right;\">\n",
       "      <th></th>\n",
       "      <th>tconst</th>\n",
       "      <th>release_date</th>\n",
       "      <th>budget</th>\n",
       "      <th>revenue</th>\n",
       "      <th>genres</th>\n",
       "      <th>original_language</th>\n",
       "      <th>origin_country</th>\n",
       "      <th>production_countries name</th>\n",
       "      <th>spoken_languages name</th>\n",
       "      <th>Profit%</th>\n",
       "    </tr>\n",
       "  </thead>\n",
       "  <tbody>\n",
       "    <tr>\n",
       "      <th>0</th>\n",
       "      <td>tt1075113</td>\n",
       "      <td>2009-06-03</td>\n",
       "      <td>13000000</td>\n",
       "      <td>2651917</td>\n",
       "      <td>Drama</td>\n",
       "      <td>Français</td>\n",
       "      <td>FR</td>\n",
       "      <td>France</td>\n",
       "      <td>Français</td>\n",
       "      <td>-79.60</td>\n",
       "    </tr>\n",
       "    <tr>\n",
       "      <th>1</th>\n",
       "      <td>tt1273221</td>\n",
       "      <td>2018-09-20</td>\n",
       "      <td>8000000</td>\n",
       "      <td>252676</td>\n",
       "      <td>Crime</td>\n",
       "      <td>English</td>\n",
       "      <td>GB</td>\n",
       "      <td>United Kingdom</td>\n",
       "      <td>English</td>\n",
       "      <td>-96.84</td>\n",
       "    </tr>\n",
       "  </tbody>\n",
       "</table>\n",
       "</div>"
      ],
      "text/plain": [
       "      tconst release_date    budget  revenue genres original_language  \\\n",
       "0  tt1075113   2009-06-03  13000000  2651917  Drama          Français   \n",
       "1  tt1273221   2018-09-20   8000000   252676  Crime           English   \n",
       "\n",
       "  origin_country production_countries name spoken_languages name  Profit%  \n",
       "0             FR                    France              Français   -79.60  \n",
       "1             GB            United Kingdom               English   -96.84  "
      ]
     },
     "execution_count": 121,
     "metadata": {},
     "output_type": "execute_result"
    }
   ],
   "source": [
    "clean_year(movies_2018)\n",
    "movies_2018.reset_index().head()\n",
    "movies_2018 = movies_2018.drop(index=4)\n",
    "movies_2018 = movies_2018.rename(columns={'imdb_id':'tconst'})\n",
    "movies_2018['budget'] = pd.to_numeric(movies_2018['budget'])\n",
    "movies_2018['revenue'] = pd.to_numeric(movies_2018['revenue'])\n",
    "profit(movies_2018)\n",
    "movies_2018.head(2)"
   ]
  },
  {
   "cell_type": "markdown",
   "metadata": {},
   "source": [
    "#### 2019"
   ]
  },
  {
   "cell_type": "code",
   "execution_count": 122,
   "metadata": {},
   "outputs": [
    {
     "data": {
      "text/html": [
       "<div>\n",
       "<style scoped>\n",
       "    .dataframe tbody tr th:only-of-type {\n",
       "        vertical-align: middle;\n",
       "    }\n",
       "\n",
       "    .dataframe tbody tr th {\n",
       "        vertical-align: top;\n",
       "    }\n",
       "\n",
       "    .dataframe thead th {\n",
       "        text-align: right;\n",
       "    }\n",
       "</style>\n",
       "<table border=\"1\" class=\"dataframe\">\n",
       "  <thead>\n",
       "    <tr style=\"text-align: right;\">\n",
       "      <th></th>\n",
       "      <th>tconst</th>\n",
       "      <th>release_date</th>\n",
       "      <th>budget</th>\n",
       "      <th>revenue</th>\n",
       "      <th>genres</th>\n",
       "      <th>original_language</th>\n",
       "      <th>origin_country</th>\n",
       "      <th>production_countries name</th>\n",
       "      <th>spoken_languages name</th>\n",
       "      <th>Profit%</th>\n",
       "    </tr>\n",
       "  </thead>\n",
       "  <tbody>\n",
       "    <tr>\n",
       "      <th>0</th>\n",
       "      <td>tt0385887</td>\n",
       "      <td>2019-10-31</td>\n",
       "      <td>26000000</td>\n",
       "      <td>18377736</td>\n",
       "      <td>Drama</td>\n",
       "      <td>English</td>\n",
       "      <td>US</td>\n",
       "      <td>United States of America</td>\n",
       "      <td>English</td>\n",
       "      <td>-29.32</td>\n",
       "    </tr>\n",
       "    <tr>\n",
       "      <th>1</th>\n",
       "      <td>tt10011102</td>\n",
       "      <td>2019-03-08</td>\n",
       "      <td>1000</td>\n",
       "      <td>1000</td>\n",
       "      <td>Action</td>\n",
       "      <td>हिन्दी</td>\n",
       "      <td>IN</td>\n",
       "      <td>India</td>\n",
       "      <td>हिन्दी</td>\n",
       "      <td>0.00</td>\n",
       "    </tr>\n",
       "  </tbody>\n",
       "</table>\n",
       "</div>"
      ],
      "text/plain": [
       "       tconst release_date    budget   revenue  genres original_language  \\\n",
       "0   tt0385887   2019-10-31  26000000  18377736   Drama           English   \n",
       "1  tt10011102   2019-03-08      1000      1000  Action            हिन्दी   \n",
       "\n",
       "  origin_country production_countries name spoken_languages name  Profit%  \n",
       "0             US  United States of America               English   -29.32  \n",
       "1             IN                     India                हिन्दी     0.00  "
      ]
     },
     "execution_count": 122,
     "metadata": {},
     "output_type": "execute_result"
    }
   ],
   "source": [
    "clean_year(movies_2019)\n",
    "movies_2019.reset_index().head()\n",
    "movies_2019 = movies_2019.drop(index=11)\n",
    "movies_2019 = movies_2019.drop(index=23)\n",
    "movies_2019 = movies_2019.drop(index=37)\n",
    "movies_2019 = movies_2019.rename(columns={'imdb_id':'tconst'})\n",
    "movies_2019['budget'] = pd.to_numeric(movies_2019['budget'])\n",
    "movies_2019['revenue'] = pd.to_numeric(movies_2019['revenue'])\n",
    "profit(movies_2019)\n",
    "movies_2019.head(2)"
   ]
  },
  {
   "cell_type": "markdown",
   "metadata": {},
   "source": [
    "### Combining Cleaned Years"
   ]
  },
  {
   "cell_type": "code",
   "execution_count": 123,
   "metadata": {},
   "outputs": [
    {
     "data": {
      "text/plain": [
       "tconst                       645\n",
       "release_date                 640\n",
       "budget                       651\n",
       "revenue                      651\n",
       "genres                       651\n",
       "original_language            620\n",
       "origin_country               651\n",
       "production_countries name    651\n",
       "spoken_languages name        624\n",
       "Profit%                      651\n",
       "dtype: int64"
      ]
     },
     "execution_count": 123,
     "metadata": {},
     "output_type": "execute_result"
    }
   ],
   "source": [
    "movies = movies_2015\n",
    "movies = movies.append(movies_2016)\n",
    "movies = movies.append(movies_2017)\n",
    "movies = movies.append(movies_2018)\n",
    "movies = movies.append(movies_2019)\n",
    "movies.count()"
   ]
  },
  {
   "cell_type": "code",
   "execution_count": 124,
   "metadata": {},
   "outputs": [
    {
     "data": {
      "text/plain": [
       "tconst                       606\n",
       "release_date                 606\n",
       "budget                       606\n",
       "revenue                      606\n",
       "genres                       606\n",
       "original_language            606\n",
       "origin_country               606\n",
       "production_countries name    606\n",
       "spoken_languages name        606\n",
       "Profit%                      606\n",
       "dtype: int64"
      ]
     },
     "execution_count": 124,
     "metadata": {},
     "output_type": "execute_result"
    }
   ],
   "source": [
    "movies = movies.dropna(how='any')\n",
    "movies.count()"
   ]
  },
  {
   "cell_type": "markdown",
   "metadata": {},
   "source": [
    "#### Save results as a CSV"
   ]
  },
  {
   "cell_type": "code",
   "execution_count": 125,
   "metadata": {},
   "outputs": [
    {
     "data": {
      "text/html": [
       "<div>\n",
       "<style scoped>\n",
       "    .dataframe tbody tr th:only-of-type {\n",
       "        vertical-align: middle;\n",
       "    }\n",
       "\n",
       "    .dataframe tbody tr th {\n",
       "        vertical-align: top;\n",
       "    }\n",
       "\n",
       "    .dataframe thead th {\n",
       "        text-align: right;\n",
       "    }\n",
       "</style>\n",
       "<table border=\"1\" class=\"dataframe\">\n",
       "  <thead>\n",
       "    <tr style=\"text-align: right;\">\n",
       "      <th></th>\n",
       "      <th>tconst</th>\n",
       "      <th>release_date</th>\n",
       "      <th>budget</th>\n",
       "      <th>revenue</th>\n",
       "      <th>genres</th>\n",
       "      <th>original_language</th>\n",
       "      <th>origin_country</th>\n",
       "      <th>production_countries name</th>\n",
       "      <th>spoken_languages name</th>\n",
       "      <th>Profit%</th>\n",
       "    </tr>\n",
       "  </thead>\n",
       "  <tbody>\n",
       "    <tr>\n",
       "      <th>0</th>\n",
       "      <td>tt0810819</td>\n",
       "      <td>2015-01-01</td>\n",
       "      <td>15000000</td>\n",
       "      <td>64191523</td>\n",
       "      <td>Drama</td>\n",
       "      <td>Français</td>\n",
       "      <td>DE</td>\n",
       "      <td>Germany</td>\n",
       "      <td>Français</td>\n",
       "      <td>327.94</td>\n",
       "    </tr>\n",
       "    <tr>\n",
       "      <th>1</th>\n",
       "      <td>tt0884732</td>\n",
       "      <td>2015-01-16</td>\n",
       "      <td>23000000</td>\n",
       "      <td>79799880</td>\n",
       "      <td>Comedy</td>\n",
       "      <td>English</td>\n",
       "      <td>US</td>\n",
       "      <td>United States of America</td>\n",
       "      <td>English</td>\n",
       "      <td>246.96</td>\n",
       "    </tr>\n",
       "  </tbody>\n",
       "</table>\n",
       "</div>"
      ],
      "text/plain": [
       "      tconst release_date    budget   revenue  genres original_language  \\\n",
       "0  tt0810819   2015-01-01  15000000  64191523   Drama          Français   \n",
       "1  tt0884732   2015-01-16  23000000  79799880  Comedy           English   \n",
       "\n",
       "  origin_country production_countries name spoken_languages name  Profit%  \n",
       "0             DE                   Germany              Français   327.94  \n",
       "1             US  United States of America               English   246.96  "
      ]
     },
     "execution_count": 125,
     "metadata": {},
     "output_type": "execute_result"
    }
   ],
   "source": [
    "movies.to_csv(\"Resources/movie_list.csv\")\n",
    "movies.head(2)"
   ]
  },
  {
   "cell_type": "code",
   "execution_count": null,
   "metadata": {},
   "outputs": [],
   "source": []
  }
 ],
 "metadata": {
  "kernelspec": {
   "display_name": "Python [conda env:PythonUCI]",
   "language": "python",
   "name": "conda-env-PythonUCI-py"
  },
  "language_info": {
   "codemirror_mode": {
    "name": "ipython",
    "version": 3
   },
   "file_extension": ".py",
   "mimetype": "text/x-python",
   "name": "python",
   "nbconvert_exporter": "python",
   "pygments_lexer": "ipython3",
   "version": "3.6.12"
  }
 },
 "nbformat": 4,
 "nbformat_minor": 4
}
